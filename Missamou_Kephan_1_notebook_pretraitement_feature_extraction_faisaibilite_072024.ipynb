{
  "cells": [
    {
      "cell_type": "markdown",
      "metadata": {
        "id": "-2p7QtH5f1Cl"
      },
      "source": [
        "# 0 - Mise en place de l'environnement"
      ]
    },
    {
      "cell_type": "markdown",
      "metadata": {
        "id": "f5mWCqwpf1Cm"
      },
      "source": [
        "## > Import des modules"
      ]
    },
    {
      "cell_type": "code",
      "execution_count": null,
      "metadata": {},
      "outputs": [],
      "source": [
        "import spacy  # Pour le traitement du langage naturel\n",
        "spacy.cli.download(\"en_core_web_trf\") # Google Colab -> relancer la session après éxecution puis ignorer ce bloc"
      ]
    },
    {
      "cell_type": "code",
      "execution_count": 3,
      "metadata": {
        "colab": {
          "base_uri": "https://localhost:8080/"
        },
        "id": "mxRzVRlAf1Cn",
        "outputId": "5fd77bf0-8ecb-4370-d32b-1b61bbe112f6"
      },
      "outputs": [
        {
          "ename": "RuntimeError",
          "evalue": "module compiled against API version 0xf but this version of numpy is 0xe",
          "output_type": "error",
          "traceback": [
            "\u001b[1;31m---------------------------------------------------------------------------\u001b[0m",
            "\u001b[1;31mRuntimeError\u001b[0m                              Traceback (most recent call last)",
            "\u001b[1;31mRuntimeError\u001b[0m: module compiled against API version 0xf but this version of numpy is 0xe"
          ]
        },
        {
          "ename": "RuntimeError",
          "evalue": "module compiled against API version 0xf but this version of numpy is 0xe",
          "output_type": "error",
          "traceback": [
            "\u001b[1;31m---------------------------------------------------------------------------\u001b[0m",
            "\u001b[1;31mRuntimeError\u001b[0m                              Traceback (most recent call last)",
            "\u001b[1;31mRuntimeError\u001b[0m: module compiled against API version 0xf but this version of numpy is 0xe"
          ]
        },
        {
          "ename": "RuntimeError",
          "evalue": "module compiled against API version 0xf but this version of numpy is 0xe",
          "output_type": "error",
          "traceback": [
            "\u001b[1;31m---------------------------------------------------------------------------\u001b[0m",
            "\u001b[1;31mRuntimeError\u001b[0m                              Traceback (most recent call last)",
            "\u001b[1;31mRuntimeError\u001b[0m: module compiled against API version 0xf but this version of numpy is 0xe"
          ]
        },
        {
          "ename": "RuntimeError",
          "evalue": "module compiled against API version 0xf but this version of numpy is 0xe",
          "output_type": "error",
          "traceback": [
            "\u001b[1;31m---------------------------------------------------------------------------\u001b[0m",
            "\u001b[1;31mRuntimeError\u001b[0m                              Traceback (most recent call last)",
            "\u001b[1;31mRuntimeError\u001b[0m: module compiled against API version 0xf but this version of numpy is 0xe"
          ]
        },
        {
          "ename": "RuntimeError",
          "evalue": "module compiled against API version 0xf but this version of numpy is 0xe",
          "output_type": "error",
          "traceback": [
            "\u001b[1;31m---------------------------------------------------------------------------\u001b[0m",
            "\u001b[1;31mRuntimeError\u001b[0m                              Traceback (most recent call last)",
            "\u001b[1;31mRuntimeError\u001b[0m: module compiled against API version 0xf but this version of numpy is 0xe"
          ]
        },
        {
          "ename": "RuntimeError",
          "evalue": "module compiled against API version 0xf but this version of numpy is 0xe",
          "output_type": "error",
          "traceback": [
            "\u001b[1;31m---------------------------------------------------------------------------\u001b[0m",
            "\u001b[1;31mRuntimeError\u001b[0m                              Traceback (most recent call last)",
            "\u001b[1;31mRuntimeError\u001b[0m: module compiled against API version 0xf but this version of numpy is 0xe"
          ]
        },
        {
          "ename": "ImportError",
          "evalue": "numpy.core.multiarray failed to import",
          "output_type": "error",
          "traceback": [
            "\u001b[1;31m---------------------------------------------------------------------------\u001b[0m",
            "\u001b[1;31mImportError\u001b[0m                               Traceback (most recent call last)",
            "Cell \u001b[1;32mIn[3], line 15\u001b[0m\n\u001b[0;32m     13\u001b[0m \u001b[38;5;28;01mimport\u001b[39;00m \u001b[38;5;21;01mspacy\u001b[39;00m  \u001b[38;5;66;03m# Bibliothèque de NLP pour le traitement de texte\u001b[39;00m\n\u001b[0;32m     14\u001b[0m \u001b[38;5;28;01mimport\u001b[39;00m \u001b[38;5;21;01men_core_web_trf\u001b[39;00m  \u001b[38;5;66;03m# Modèle de langage Spacy pour l'anglais\u001b[39;00m\n\u001b[1;32m---> 15\u001b[0m \u001b[38;5;28;01mimport\u001b[39;00m \u001b[38;5;21;01mgensim\u001b[39;00m\u001b[38;5;21;01m.\u001b[39;00m\u001b[38;5;21;01mdownloader\u001b[39;00m \u001b[38;5;28;01mas\u001b[39;00m \u001b[38;5;21;01mapi\u001b[39;00m  \u001b[38;5;66;03m# Téléchargement de modèles pré-entraînés pour Gensim\u001b[39;00m\n\u001b[0;32m     17\u001b[0m \u001b[38;5;66;03m# 4. Apprentissage automatique\u001b[39;00m\n\u001b[0;32m     18\u001b[0m \u001b[38;5;66;03m## 4.1 Scikit-learn\u001b[39;00m\n\u001b[0;32m     19\u001b[0m \u001b[38;5;28;01mfrom\u001b[39;00m \u001b[38;5;21;01msklearn\u001b[39;00m\u001b[38;5;21;01m.\u001b[39;00m\u001b[38;5;21;01mfeature_extraction\u001b[39;00m\u001b[38;5;21;01m.\u001b[39;00m\u001b[38;5;21;01mtext\u001b[39;00m \u001b[38;5;28;01mimport\u001b[39;00m CountVectorizer, TfidfVectorizer  \u001b[38;5;66;03m# Extraction de caractéristiques textuelles\u001b[39;00m\n",
            "File \u001b[1;32mc:\\Users\\kepha\\OneDrive\\Documents\\Projets\\Projet 6\\nlp_venv\\lib\\site-packages\\gensim\\__init__.py:11\u001b[0m\n\u001b[0;32m      7\u001b[0m __version__ \u001b[38;5;241m=\u001b[39m \u001b[38;5;124m'\u001b[39m\u001b[38;5;124m4.3.0\u001b[39m\u001b[38;5;124m'\u001b[39m\n\u001b[0;32m      9\u001b[0m \u001b[38;5;28;01mimport\u001b[39;00m \u001b[38;5;21;01mlogging\u001b[39;00m\n\u001b[1;32m---> 11\u001b[0m \u001b[38;5;28;01mfrom\u001b[39;00m \u001b[38;5;21;01mgensim\u001b[39;00m \u001b[38;5;28;01mimport\u001b[39;00m parsing, corpora, matutils, interfaces, models, similarities, utils  \u001b[38;5;66;03m# noqa:F401\u001b[39;00m\n\u001b[0;32m     14\u001b[0m logger \u001b[38;5;241m=\u001b[39m logging\u001b[38;5;241m.\u001b[39mgetLogger(\u001b[38;5;124m'\u001b[39m\u001b[38;5;124mgensim\u001b[39m\u001b[38;5;124m'\u001b[39m)\n\u001b[0;32m     15\u001b[0m \u001b[38;5;28;01mif\u001b[39;00m \u001b[38;5;129;01mnot\u001b[39;00m logger\u001b[38;5;241m.\u001b[39mhandlers:  \u001b[38;5;66;03m# To ensure reload() doesn't add another one\u001b[39;00m\n",
            "File \u001b[1;32mc:\\Users\\kepha\\OneDrive\\Documents\\Projets\\Projet 6\\nlp_venv\\lib\\site-packages\\gensim\\parsing\\__init__.py:4\u001b[0m\n\u001b[0;32m      1\u001b[0m \u001b[38;5;124;03m\"\"\"This package contains functions to preprocess raw text\"\"\"\u001b[39;00m\n\u001b[0;32m      3\u001b[0m \u001b[38;5;28;01mfrom\u001b[39;00m \u001b[38;5;21;01m.\u001b[39;00m\u001b[38;5;21;01mporter\u001b[39;00m \u001b[38;5;28;01mimport\u001b[39;00m PorterStemmer  \u001b[38;5;66;03m# noqa:F401\u001b[39;00m\n\u001b[1;32m----> 4\u001b[0m \u001b[38;5;28;01mfrom\u001b[39;00m \u001b[38;5;21;01m.\u001b[39;00m\u001b[38;5;21;01mpreprocessing\u001b[39;00m \u001b[38;5;28;01mimport\u001b[39;00m (  \u001b[38;5;66;03m# noqa:F401\u001b[39;00m\n\u001b[0;32m      5\u001b[0m     preprocess_documents,\n\u001b[0;32m      6\u001b[0m     preprocess_string,\n\u001b[0;32m      7\u001b[0m     read_file,\n\u001b[0;32m      8\u001b[0m     read_files,\n\u001b[0;32m      9\u001b[0m     remove_stopwords,\n\u001b[0;32m     10\u001b[0m     split_alphanum,\n\u001b[0;32m     11\u001b[0m     stem_text,\n\u001b[0;32m     12\u001b[0m     strip_multiple_whitespaces,\n\u001b[0;32m     13\u001b[0m     strip_non_alphanum,\n\u001b[0;32m     14\u001b[0m     strip_numeric,\n\u001b[0;32m     15\u001b[0m     strip_punctuation,\n\u001b[0;32m     16\u001b[0m     strip_short,\n\u001b[0;32m     17\u001b[0m     strip_tags,\n\u001b[0;32m     18\u001b[0m )\n",
            "File \u001b[1;32mc:\\Users\\kepha\\OneDrive\\Documents\\Projets\\Projet 6\\nlp_venv\\lib\\site-packages\\gensim\\parsing\\preprocessing.py:26\u001b[0m\n\u001b[0;32m     23\u001b[0m \u001b[38;5;28;01mimport\u001b[39;00m \u001b[38;5;21;01mstring\u001b[39;00m\n\u001b[0;32m     24\u001b[0m \u001b[38;5;28;01mimport\u001b[39;00m \u001b[38;5;21;01mglob\u001b[39;00m\n\u001b[1;32m---> 26\u001b[0m \u001b[38;5;28;01mfrom\u001b[39;00m \u001b[38;5;21;01mgensim\u001b[39;00m \u001b[38;5;28;01mimport\u001b[39;00m utils\n\u001b[0;32m     27\u001b[0m \u001b[38;5;28;01mfrom\u001b[39;00m \u001b[38;5;21;01mgensim\u001b[39;00m\u001b[38;5;21;01m.\u001b[39;00m\u001b[38;5;21;01mparsing\u001b[39;00m\u001b[38;5;21;01m.\u001b[39;00m\u001b[38;5;21;01mporter\u001b[39;00m \u001b[38;5;28;01mimport\u001b[39;00m PorterStemmer\n\u001b[0;32m     30\u001b[0m STOPWORDS \u001b[38;5;241m=\u001b[39m \u001b[38;5;28mfrozenset\u001b[39m([\n\u001b[0;32m     31\u001b[0m     \u001b[38;5;124m'\u001b[39m\u001b[38;5;124mall\u001b[39m\u001b[38;5;124m'\u001b[39m, \u001b[38;5;124m'\u001b[39m\u001b[38;5;124msix\u001b[39m\u001b[38;5;124m'\u001b[39m, \u001b[38;5;124m'\u001b[39m\u001b[38;5;124mjust\u001b[39m\u001b[38;5;124m'\u001b[39m, \u001b[38;5;124m'\u001b[39m\u001b[38;5;124mless\u001b[39m\u001b[38;5;124m'\u001b[39m, \u001b[38;5;124m'\u001b[39m\u001b[38;5;124mbeing\u001b[39m\u001b[38;5;124m'\u001b[39m, \u001b[38;5;124m'\u001b[39m\u001b[38;5;124mindeed\u001b[39m\u001b[38;5;124m'\u001b[39m, \u001b[38;5;124m'\u001b[39m\u001b[38;5;124mover\u001b[39m\u001b[38;5;124m'\u001b[39m, \u001b[38;5;124m'\u001b[39m\u001b[38;5;124mmove\u001b[39m\u001b[38;5;124m'\u001b[39m, \u001b[38;5;124m'\u001b[39m\u001b[38;5;124manyway\u001b[39m\u001b[38;5;124m'\u001b[39m, \u001b[38;5;124m'\u001b[39m\u001b[38;5;124mfour\u001b[39m\u001b[38;5;124m'\u001b[39m, \u001b[38;5;124m'\u001b[39m\u001b[38;5;124mnot\u001b[39m\u001b[38;5;124m'\u001b[39m, \u001b[38;5;124m'\u001b[39m\u001b[38;5;124mown\u001b[39m\u001b[38;5;124m'\u001b[39m, \u001b[38;5;124m'\u001b[39m\u001b[38;5;124mthrough\u001b[39m\u001b[38;5;124m'\u001b[39m,\n\u001b[0;32m     32\u001b[0m     \u001b[38;5;124m'\u001b[39m\u001b[38;5;124musing\u001b[39m\u001b[38;5;124m'\u001b[39m, \u001b[38;5;124m'\u001b[39m\u001b[38;5;124mfifty\u001b[39m\u001b[38;5;124m'\u001b[39m, \u001b[38;5;124m'\u001b[39m\u001b[38;5;124mwhere\u001b[39m\u001b[38;5;124m'\u001b[39m, \u001b[38;5;124m'\u001b[39m\u001b[38;5;124mmill\u001b[39m\u001b[38;5;124m'\u001b[39m, \u001b[38;5;124m'\u001b[39m\u001b[38;5;124monly\u001b[39m\u001b[38;5;124m'\u001b[39m, \u001b[38;5;124m'\u001b[39m\u001b[38;5;124mfind\u001b[39m\u001b[38;5;124m'\u001b[39m, \u001b[38;5;124m'\u001b[39m\u001b[38;5;124mbefore\u001b[39m\u001b[38;5;124m'\u001b[39m, \u001b[38;5;124m'\u001b[39m\u001b[38;5;124mone\u001b[39m\u001b[38;5;124m'\u001b[39m, \u001b[38;5;124m'\u001b[39m\u001b[38;5;124mwhose\u001b[39m\u001b[38;5;124m'\u001b[39m, \u001b[38;5;124m'\u001b[39m\u001b[38;5;124msystem\u001b[39m\u001b[38;5;124m'\u001b[39m, \u001b[38;5;124m'\u001b[39m\u001b[38;5;124mhow\u001b[39m\u001b[38;5;124m'\u001b[39m, \u001b[38;5;124m'\u001b[39m\u001b[38;5;124msomewhere\u001b[39m\u001b[38;5;124m'\u001b[39m,\n\u001b[1;32m   (...)\u001b[0m\n\u001b[0;32m     58\u001b[0m     \u001b[38;5;124m'\u001b[39m\u001b[38;5;124mmake\u001b[39m\u001b[38;5;124m'\u001b[39m, \u001b[38;5;124m'\u001b[39m\u001b[38;5;124monce\u001b[39m\u001b[38;5;124m'\u001b[39m\n\u001b[0;32m     59\u001b[0m ])\n",
            "File \u001b[1;32mc:\\Users\\kepha\\OneDrive\\Documents\\Projets\\Projet 6\\nlp_venv\\lib\\site-packages\\gensim\\utils.py:36\u001b[0m\n\u001b[0;32m     33\u001b[0m \u001b[38;5;28;01mimport\u001b[39;00m \u001b[38;5;21;01mtypes\u001b[39;00m\n\u001b[0;32m     35\u001b[0m \u001b[38;5;28;01mimport\u001b[39;00m \u001b[38;5;21;01mnumpy\u001b[39;00m \u001b[38;5;28;01mas\u001b[39;00m \u001b[38;5;21;01mnp\u001b[39;00m\n\u001b[1;32m---> 36\u001b[0m \u001b[38;5;28;01mimport\u001b[39;00m \u001b[38;5;21;01mscipy\u001b[39;00m\u001b[38;5;21;01m.\u001b[39;00m\u001b[38;5;21;01msparse\u001b[39;00m\n\u001b[0;32m     37\u001b[0m \u001b[38;5;28;01mfrom\u001b[39;00m \u001b[38;5;21;01msmart_open\u001b[39;00m \u001b[38;5;28;01mimport\u001b[39;00m \u001b[38;5;28mopen\u001b[39m\n\u001b[0;32m     39\u001b[0m \u001b[38;5;28;01mfrom\u001b[39;00m \u001b[38;5;21;01mgensim\u001b[39;00m \u001b[38;5;28;01mimport\u001b[39;00m __version__ \u001b[38;5;28;01mas\u001b[39;00m gensim_version\n",
            "File \u001b[1;32mc:\\Users\\kepha\\OneDrive\\Documents\\Projets\\Projet 6\\nlp_venv\\lib\\site-packages\\scipy\\sparse\\__init__.py:267\u001b[0m\n\u001b[0;32m    264\u001b[0m \u001b[38;5;28;01mimport\u001b[39;00m \u001b[38;5;21;01mwarnings\u001b[39;00m \u001b[38;5;28;01mas\u001b[39;00m \u001b[38;5;21;01m_warnings\u001b[39;00m\n\u001b[0;32m    266\u001b[0m \u001b[38;5;28;01mfrom\u001b[39;00m \u001b[38;5;21;01m.\u001b[39;00m\u001b[38;5;21;01m_base\u001b[39;00m \u001b[38;5;28;01mimport\u001b[39;00m \u001b[38;5;241m*\u001b[39m\n\u001b[1;32m--> 267\u001b[0m \u001b[38;5;28;01mfrom\u001b[39;00m \u001b[38;5;21;01m.\u001b[39;00m\u001b[38;5;21;01m_csr\u001b[39;00m \u001b[38;5;28;01mimport\u001b[39;00m \u001b[38;5;241m*\u001b[39m\n\u001b[0;32m    268\u001b[0m \u001b[38;5;28;01mfrom\u001b[39;00m \u001b[38;5;21;01m.\u001b[39;00m\u001b[38;5;21;01m_csc\u001b[39;00m \u001b[38;5;28;01mimport\u001b[39;00m \u001b[38;5;241m*\u001b[39m\n\u001b[0;32m    269\u001b[0m \u001b[38;5;28;01mfrom\u001b[39;00m \u001b[38;5;21;01m.\u001b[39;00m\u001b[38;5;21;01m_lil\u001b[39;00m \u001b[38;5;28;01mimport\u001b[39;00m \u001b[38;5;241m*\u001b[39m\n",
            "File \u001b[1;32mc:\\Users\\kepha\\OneDrive\\Documents\\Projets\\Projet 6\\nlp_venv\\lib\\site-packages\\scipy\\sparse\\_csr.py:10\u001b[0m\n\u001b[0;32m      7\u001b[0m \u001b[38;5;28;01mimport\u001b[39;00m \u001b[38;5;21;01mnumpy\u001b[39;00m \u001b[38;5;28;01mas\u001b[39;00m \u001b[38;5;21;01mnp\u001b[39;00m\n\u001b[0;32m      9\u001b[0m \u001b[38;5;28;01mfrom\u001b[39;00m \u001b[38;5;21;01m.\u001b[39;00m\u001b[38;5;21;01m_base\u001b[39;00m \u001b[38;5;28;01mimport\u001b[39;00m spmatrix\n\u001b[1;32m---> 10\u001b[0m \u001b[38;5;28;01mfrom\u001b[39;00m \u001b[38;5;21;01m.\u001b[39;00m\u001b[38;5;21;01m_sparsetools\u001b[39;00m \u001b[38;5;28;01mimport\u001b[39;00m (csr_tocsc, csr_tobsr, csr_count_blocks,\n\u001b[0;32m     11\u001b[0m                            get_csr_submatrix)\n\u001b[0;32m     12\u001b[0m \u001b[38;5;28;01mfrom\u001b[39;00m \u001b[38;5;21;01m.\u001b[39;00m\u001b[38;5;21;01m_sputils\u001b[39;00m \u001b[38;5;28;01mimport\u001b[39;00m upcast, get_index_dtype\n\u001b[0;32m     14\u001b[0m \u001b[38;5;28;01mfrom\u001b[39;00m \u001b[38;5;21;01m.\u001b[39;00m\u001b[38;5;21;01m_compressed\u001b[39;00m \u001b[38;5;28;01mimport\u001b[39;00m _cs_matrix\n",
            "\u001b[1;31mImportError\u001b[0m: numpy.core.multiarray failed to import"
          ]
        }
      ],
      "source": [
        "# 1. Traitement et analyse de données\n",
        "import pandas as pd  # Manipulation de dataframes (tableaux de données)\n",
        "import numpy as np   # Calculs numériques et manipulation de tableaux\n",
        "\n",
        "# 2. Visualisation de données\n",
        "import plotly.express as px   # Création de graphiques interactifs\n",
        "import plotly.graph_objects as go  # Création de graphiques complexes et personnalisables\n",
        "import matplotlib.pyplot as plt  # Création de graphiques classiques\n",
        "import seaborn as sns  # Création de graphiques statistiques et esthétiques\n",
        "\n",
        "# 3. Traitement du langage naturel (NLP)\n",
        "from transformers import BertTokenizer, BertForSequenceClassification, BertModel  # Modèles de langage basés sur BERT\n",
        "from transformers import AutoTokenizer, AutoModel  # Chargement automatique de modèles de langage\n",
        "import spacy  # Bibliothèque de NLP pour le traitement de texte\n",
        "import en_core_web_trf  # Modèle de langage Spacy pour l'anglais\n",
        "import gensim.downloader as api  # Téléchargement de modèles pré-entraînés pour Gensim\n",
        "\n",
        "# 4. Apprentissage automatique\n",
        "## 4.1 Scikit-learn\n",
        "from sklearn.feature_extraction.text import CountVectorizer, TfidfVectorizer  # Extraction de caractéristiques textuelles\n",
        "from sklearn.decomposition import LatentDirichletAllocation, NMF  # Modèles de réduction de dimensionnalité pour les textes\n",
        "from sklearn.model_selection import RandomizedSearchCV, GridSearchCV, train_test_split, StratifiedKFold  # Sélection de modèles et validation croisée\n",
        "from sklearn.svm import SVC  # Machine à vecteurs de support pour la classification\n",
        "from sklearn.neighbors import KNeighborsClassifier  # Classifieur des k plus proches voisins\n",
        "from sklearn.ensemble import GradientBoostingClassifier  # Algorithme de boosting de gradient pour la classification\n",
        "from sklearn.preprocessing import StandardScaler, LabelEncoder  # Prétraitement des données\n",
        "from sklearn.metrics import classification_report, accuracy_score, roc_curve, auc, confusion_matrix  # Évaluation des modèles de classification\n",
        "from sklearn.cluster import KMeans  # Algorithme de clustering K-means\n",
        "from sklearn.metrics.cluster import adjusted_rand_score  # Évaluation des modèles de clustering\n",
        "\n",
        "## 4.2 Deep Learning\n",
        "import torch  # Framework de deep learning\n",
        "import tensorflow_hub as hub  # Modèles pré-entraînés pour TensorFlow\n",
        "from keras import Model  # Construction de modèles de réseaux de neurones\n",
        "from keras.applications.vgg16 import VGG16, decode_predictions  # Modèle pré-entraîné VGG16 pour la classification d'images\n",
        "from keras.layers import Dense  # Couche de neurones entièrement connectée\n",
        "from keras.preprocessing.image import load_img, img_to_array  # Chargement et prétraitement d'images\n",
        "from keras.applications.vgg16 import preprocess_input  # Prétraitement spécifique pour VGG16\n",
        "\n",
        "# 5. Statistiques et probabilités\n",
        "from scipy.stats import randint, uniform, chi2_contingency  # Fonctions statistiques\n",
        "\n",
        "# 6. Traitement d'images\n",
        "import cv2  # Bibliothèque OpenCV pour le traitement d'images\n",
        "\n",
        "# 7. Réduction de dimensionnalité et clustering\n",
        "import umap.umap_ as umap  # Algorithme UMAP pour la réduction de dimensionnalité\n",
        "from sklearn.decomposition import PCA  # Analyse en composantes principales (PCA)\n",
        "import hdbscan  # Clustering basé sur la densité avec HDBSCAN\n",
        "from sklearn.mixture import GaussianMixture  # Modèles de mélange gaussien pour le clustering\n",
        "\n",
        "# 8. Utilitaires\n",
        "import random  # Génération de nombres aléatoires\n",
        "from tqdm import tqdm  # Barres de progression\n",
        "import os  # Interaction avec le système de fichiers\n",
        "from typing import Union  # Définition de types pour les fonctions\n",
        "from spacy.tokens import Doc  # Objet Doc de Spacy pour représenter un texte\n",
        "\n",
        "# Chargement des modèles\n",
        "nlp = spacy.load('en_core_web_trf')  # Chargement du modèle Spacy pour l'anglais\n",
        "wv = api.load('glove-wiki-gigaword-50')  # Chargement du modèle Word2Vec pré-entraîné sur Wikipédia\n",
        "\n",
        "#numba pour rendre le code GPU-compatible"
      ]
    },
    {
      "cell_type": "code",
      "execution_count": null,
      "metadata": {
        "colab": {
          "base_uri": "https://localhost:8080/"
        },
        "id": "YamnCWH2f1Co",
        "outputId": "02c5e84b-8d0d-4063-b4e7-1d98df7405ca"
      },
      "outputs": [],
      "source": [
        "doc = nlp(\"This is a sentence. What's up ?\")\n",
        "\n",
        "[token.text for token in doc]"
      ]
    },
    {
      "cell_type": "code",
      "execution_count": null,
      "metadata": {
        "colab": {
          "base_uri": "https://localhost:8080/"
        },
        "id": "JvC_yODgf1Co",
        "outputId": "9ca378ff-9eb4-41e8-af03-78c1b58368c2"
      },
      "outputs": [],
      "source": [
        "print([(w.text, w.pos_) for w in doc])"
      ]
    },
    {
      "cell_type": "code",
      "execution_count": null,
      "metadata": {
        "colab": {
          "base_uri": "https://localhost:8080/"
        },
        "id": "T9KMmlYFf1Co",
        "outputId": "979357ad-79ab-4bad-fddd-06e19676b879"
      },
      "outputs": [],
      "source": [
        "[token.text for token in doc if not token.is_punct]"
      ]
    },
    {
      "cell_type": "code",
      "execution_count": 6,
      "metadata": {
        "id": "OcpqTtiSf1Co"
      },
      "outputs": [],
      "source": [
        "graine = 242"
      ]
    },
    {
      "cell_type": "code",
      "execution_count": 7,
      "metadata": {
        "id": "i0vpv2AMriyk"
      },
      "outputs": [],
      "source": [
        "def case_when(*args):\n",
        "    \"\"\"\n",
        "    Évalue plusieurs conditions et retourne des valeurs spécifiques pour chaque condition.\n",
        "\n",
        "    Cette fonction mime le comportement de `CASE WHEN` en SQL et de `case_when` en dplyr (R).\n",
        "\n",
        "    Parameters:\n",
        "    *args: Une séquence de conditions et de valeurs.\n",
        "           Les éléments d'index pair (0, 2, 4, ...) sont les conditions (expressions booléennes).\n",
        "           Les éléments d'index impair (1, 3, 5, ...) sont les valeurs correspondantes à retourner si la condition est vraie.\n",
        "\n",
        "    Returns:\n",
        "    np.ndarray: Un tableau Numpy contenant les valeurs correspondantes aux conditions évaluées.\n",
        "                Si aucune condition n'est vraie, retourne `pd.NA` par défaut.\n",
        "\n",
        "    Raises:\n",
        "    ValueError: Si le nombre d'arguments n'est pas pair.\n",
        "\n",
        "    Example:\n",
        "    >>> x = np.array([1, 2, 3, 4, 5])\n",
        "    >>> result = case_when(\n",
        "            x < 2, 'A',\n",
        "            (x >= 2) & (x < 4), 'B',\n",
        "            x >= 4, 'C'\n",
        "        )\n",
        "    >>> print(result)\n",
        "    ['A' 'B' 'B' 'C' 'C']\n",
        "\n",
        "    Example with DataFrame:\n",
        "    >>> df = pd.DataFrame({'x': [1, 2, 3, 4, 5]})\n",
        "    >>> df['category'] = case_when(\n",
        "            df['x'] < 2, 'A',\n",
        "            (df['x'] >= 2) & (df['x'] < 4), 'B',\n",
        "            df['x'] >= 4, 'C'\n",
        "        )\n",
        "    >>> print(df)\n",
        "       x category\n",
        "    0  1        A\n",
        "    1  2        B\n",
        "    2  3        B\n",
        "    3  4        C\n",
        "    4  5        C\n",
        "    \"\"\"\n",
        "    if len(args) % 2 != 0:\n",
        "        raise ValueError(\"The number of arguments must be even (pairs of conditions and values).\")\n",
        "\n",
        "    condlist = [args[i] for i in range(0, len(args), 2)]\n",
        "    choicelist = [args[i] for i in range(1, len(args), 2)]\n",
        "\n",
        "    return np.select(condlist, choicelist, default=pd.NA)"
      ]
    },
    {
      "cell_type": "markdown",
      "metadata": {
        "id": "r0GLnUx-f1Cp"
      },
      "source": [
        "## > Import des données"
      ]
    },
    {
      "cell_type": "code",
      "execution_count": null,
      "metadata": {
        "colab": {
          "base_uri": "https://localhost:8080/",
          "height": 539
        },
        "id": "k6FVAe6mf1Cp",
        "outputId": "c7de1d79-39c8-45fc-940f-a51e7a76df8c"
      },
      "outputs": [],
      "source": [
        "texte = pd.read_csv('./Data/flipkart_com-ecommerce_sample_1050.csv')\n",
        "texte.sample(5, random_state = graine)"
      ]
    },
    {
      "cell_type": "markdown",
      "metadata": {
        "id": "s5MVEzHkJ-BP"
      },
      "source": [
        "# A. Texte"
      ]
    },
    {
      "cell_type": "markdown",
      "metadata": {
        "id": "lNOcIQAwf1Cp"
      },
      "source": [
        "## I - Tokenisation"
      ]
    },
    {
      "cell_type": "code",
      "execution_count": 9,
      "metadata": {
        "id": "n77UyJquf1Cp"
      },
      "outputs": [],
      "source": [
        "# Créez un ensemble de stop words une seule fois\n",
        "stop_words = set(nlp.Defaults.stop_words)\n",
        "\n",
        "def tokenize_text(text: Union[str, Doc]) -> list[str]:\n",
        "    \"\"\"\n",
        "    Cette fonction prend un texte ou un objet Doc spaCy en entrée et renvoie une liste de lemmes.\n",
        "    Les lemmes sont les formes canoniques des mots, obtenues après traitement par Spacy.\n",
        "    Les ponctuations et les stopwords sont supprimés.\n",
        "\n",
        "    Parameters\n",
        "    ----------\n",
        "    text : Union[str, spacy.tokens.Doc]\n",
        "        Le texte ou le document spaCy à tokenizer.\n",
        "\n",
        "    Returns\n",
        "    -------\n",
        "    List[str]\n",
        "        La liste de lemmes du texte en entrée.\n",
        "    \"\"\"\n",
        "    if isinstance(text, str):\n",
        "        doc = nlp(text)\n",
        "    elif isinstance(text, Doc):\n",
        "        doc = text\n",
        "    else:\n",
        "        raise TypeError(\"L'entrée doit être une chaîne de caractères ou un objet spacy.tokens.Doc\")\n",
        "    \n",
        "    return [token.lemma_ for token in doc if not (token.is_punct or token.lemma_ in stop_words)]\n",
        "\n",
        "def process_batch(texts: list[str]) -> list[list[str]]:\n",
        "    docs = list(nlp.pipe(texts))  # Process texts in a batch\n",
        "    return [tokenize_text(doc) for doc in tqdm(docs, desc=\"Processing texts\")] \n",
        "\n",
        "def tokenize_corpus(dataframe: pd.DataFrame, colonne: str, batch_size: int = 1000) -> pd.DataFrame:\n",
        "    \"\"\"\n",
        "    Cette fonction prend un DataFrame et le nom d'une colonne en entrée,\n",
        "    et renvoie un nouveau DataFrame avec une colonne supplémentaire contenant les listes de lemmes.\n",
        "\n",
        "    Parameters\n",
        "    ----------\n",
        "    dataframe : pd.DataFrame\n",
        "        Le DataFrame à tokenizer.\n",
        "    colonne : str\n",
        "        Le nom de la colonne contenant les textes à tokenizer.\n",
        "    batch_size : int, optional\n",
        "        La taille des lots pour le traitement par lots (par défaut 1000).\n",
        "\n",
        "    Returns\n",
        "    -------\n",
        "    pd.DataFrame\n",
        "        Le DataFrame avec une colonne supplémentaire contenant les listes de lemmes.\n",
        "        La nouvelle colonne a pour nom '{colonne} token'.\n",
        "    \"\"\"\n",
        "    df = dataframe.copy()\n",
        "    \n",
        "    # Traitement par lots avec tqdm pour le suivi de progression\n",
        "    tokens = []\n",
        "    total_batches = (len(df) + batch_size - 1) // batch_size  # Calcul du nombre total de lots\n",
        "    for i in tqdm(range(0, len(df), batch_size), total=total_batches, desc=\"Tokenizing batches\"):\n",
        "        batch = df[colonne].iloc[i:i+batch_size].tolist()\n",
        "        tokens.extend(process_batch(batch))\n",
        "    \n",
        "    df[colonne+' token'] = tokens\n",
        "    df[colonne+' token raw'] = df[colonne+' token'].apply(' '.join)\n",
        "    \n",
        "    return df"
      ]
    },
    {
      "cell_type": "code",
      "execution_count": null,
      "metadata": {
        "colab": {
          "base_uri": "https://localhost:8080/"
        },
        "id": "DPf8rCjWf1Cp",
        "outputId": "4243b4f3-8ac2-41d2-db10-9098baf41267"
      },
      "outputs": [],
      "source": [
        "# Test de la fonction de tokenization sur un texte dummy. En particulier, présence de plusieurs variantes d'un même lemme (\"like\" et \"liking\")\n",
        "tokenize_text(\"Hey, what's up ? I like pasta quite much actually, but I do prefer a nice bowl of rice ! Recently, I've taken a liking to surfing and playing basketball. I have two basketballs at home to play with my wife and kids. She took of last night with the children, they went to Paris.\")"
      ]
    },
    {
      "cell_type": "code",
      "execution_count": null,
      "metadata": {
        "colab": {
          "base_uri": "https://localhost:8080/"
        },
        "id": "qJMSuIuYf1Cp",
        "outputId": "3eab963b-e4cb-4797-870d-4a9deec1c995"
      },
      "outputs": [],
      "source": [
        "# Nombre de documents (descriptions) composants le corpus\n",
        "len(texte)"
      ]
    },
    {
      "cell_type": "code",
      "execution_count": null,
      "metadata": {
        "colab": {
          "base_uri": "https://localhost:8080/"
        },
        "id": "LrXkMnSwf1Cp",
        "outputId": "0820f1ab-ee63-4fb8-a4ad-86252159172c"
      },
      "outputs": [],
      "source": [
        "# Visualisation de quelque documents du corpus\n",
        "i = 1\n",
        "for text in texte['description'].sample(10, random_state=graine):\n",
        "    print('Extrait n°'+str(i))\n",
        "    print(text + '\\n')\n",
        "    i += 1"
      ]
    },
    {
      "cell_type": "code",
      "execution_count": null,
      "metadata": {
        "id": "ssY-pDNBf1Cp"
      },
      "outputs": [],
      "source": [
        "# Tokenization du corpus\n",
        "texte = tokenize_corpus(dataframe=texte, colonne='description')\n",
        "# Temps d'exécution Google Colab ~12mn -> le temps de prendre un café"
      ]
    },
    {
      "cell_type": "code",
      "execution_count": null,
      "metadata": {
        "colab": {
          "base_uri": "https://localhost:8080/",
          "height": 241
        },
        "id": "JKlfNWilxe-A",
        "outputId": "de29d0ca-ec78-469e-b68e-1b4d411c9e8d"
      },
      "outputs": [],
      "source": [
        "texte['description token'].sample(5, random_state=graine)"
      ]
    },
    {
      "cell_type": "code",
      "execution_count": null,
      "metadata": {
        "colab": {
          "base_uri": "https://localhost:8080/",
          "height": 271
        },
        "id": "C8GdXaR4f1Cp",
        "outputId": "399c4569-9d5e-4135-a015-780409282f2e"
      },
      "outputs": [],
      "source": [
        "# Visualisation du corpus\n",
        "texte.sample(2, random_state = graine)"
      ]
    },
    {
      "cell_type": "markdown",
      "metadata": {
        "id": "nWu50U81nHp5"
      },
      "source": [
        "### Bag of Word, TfIdf"
      ]
    },
    {
      "cell_type": "code",
      "execution_count": 16,
      "metadata": {
        "id": "jqImJCEPf1Cp"
      },
      "outputs": [],
      "source": [
        "vectorizer = CountVectorizer()\n",
        "X = vectorizer.fit_transform(texte['description token raw'])\n",
        "feature_names = vectorizer.get_feature_names_out()\n",
        "bow_matrix = X.toarray()"
      ]
    },
    {
      "cell_type": "code",
      "execution_count": null,
      "metadata": {
        "colab": {
          "base_uri": "https://localhost:8080/"
        },
        "id": "1d6_Us0Kf1Cp",
        "outputId": "ffea71f5-52cd-48fa-9b22-27c47152f218"
      },
      "outputs": [],
      "source": [
        "bow_matrix.shape\n",
        "# 1050 documents dans le corpus, vocabulaire de 5318 mots distincts"
      ]
    },
    {
      "cell_type": "code",
      "execution_count": null,
      "metadata": {
        "colab": {
          "base_uri": "https://localhost:8080/"
        },
        "id": "sAgZBYE7qWxR",
        "outputId": "1aaa7062-b195-4ccf-abb8-2d3aae2b5587"
      },
      "outputs": [],
      "source": [
        "# Matrice bow\n",
        "bow_matrix"
      ]
    },
    {
      "cell_type": "code",
      "execution_count": null,
      "metadata": {
        "colab": {
          "base_uri": "https://localhost:8080/"
        },
        "id": "YWEOAn4AqaXh",
        "outputId": "39042d40-2895-4d02-90dc-dd0aa8da0dcc"
      },
      "outputs": [],
      "source": [
        "bow_matrix.mean()\n",
        "# Très creuse"
      ]
    },
    {
      "cell_type": "code",
      "execution_count": 20,
      "metadata": {
        "id": "AUU6ehvUf1Cq"
      },
      "outputs": [],
      "source": [
        "vectorizer = TfidfVectorizer()\n",
        "X = vectorizer.fit_transform(texte['description token raw'])\n",
        "feature_names = vectorizer.get_feature_names_out()\n",
        "tfidf_matrix = X.toarray()"
      ]
    },
    {
      "cell_type": "code",
      "execution_count": null,
      "metadata": {
        "colab": {
          "base_uri": "https://localhost:8080/"
        },
        "id": "WmKBTMpsf1Cq",
        "outputId": "ee8237b4-4cfd-424f-b110-97f82eb1bec8"
      },
      "outputs": [],
      "source": [
        "tfidf_matrix.shape\n",
        "# Renvoie le nombre de document + la taille du vocabulaire du corpus tokenisé"
      ]
    },
    {
      "cell_type": "code",
      "execution_count": null,
      "metadata": {
        "colab": {
          "base_uri": "https://localhost:8080/"
        },
        "id": "1ofe1awgf1Cq",
        "outputId": "d2cdc20b-cdec-4e7e-ac7e-f1e94a53cf1a"
      },
      "outputs": [],
      "source": [
        "tfidf_matrix"
      ]
    },
    {
      "cell_type": "code",
      "execution_count": null,
      "metadata": {
        "colab": {
          "base_uri": "https://localhost:8080/"
        },
        "id": "DWor8qTAqk1b",
        "outputId": "b213bb07-26f8-4eca-bbcb-09571db87ec7"
      },
      "outputs": [],
      "source": [
        "tfidf_matrix.mean()\n",
        "# Également très creuse"
      ]
    },
    {
      "cell_type": "code",
      "execution_count": null,
      "metadata": {
        "colab": {
          "base_uri": "https://localhost:8080/"
        },
        "id": "8ZU3Pk2lf1Cq",
        "outputId": "85a530c5-529b-4db7-92ad-c955a48596d7"
      },
      "outputs": [],
      "source": [
        "# Aplatir la liste de jetons pour créer une liste python contenant tous les documents\n",
        "# Mis bout à bout\n",
        "vocabulaire = [jeton for sous_liste in texte['description token'] for jeton in sous_liste]\n",
        "\n",
        "# Vectoriser les jetons\n",
        "vectoriseur = CountVectorizer()\n",
        "sac_de_mots = vectoriseur.fit_transform(vocabulaire)\n",
        "sac_de_mots"
      ]
    },
    {
      "cell_type": "code",
      "execution_count": null,
      "metadata": {
        "colab": {
          "base_uri": "https://localhost:8080/"
        },
        "id": "W5L1ad8sf1Cq",
        "outputId": "82b1b09d-2f78-4f69-9633-761e967ec9d0"
      },
      "outputs": [],
      "source": [
        "len(vocabulaire)"
      ]
    },
    {
      "cell_type": "code",
      "execution_count": 26,
      "metadata": {
        "id": "o3f_drHff1Cq"
      },
      "outputs": [],
      "source": [
        "def tracer_mots_les_plus_frequents(jetons_serie, n_mots_les_plus_frequents=10, desc=True):\n",
        "    \"\"\"\n",
        "    Trace un graphique à barres des mots les plus fréquents dans une série de jetons.\n",
        "\n",
        "    Paramètres\n",
        "    ----------\n",
        "    jetons_serie : pandas.Series\n",
        "        Série de jetons (ou colonne de jetons dans un dataframe pandas).\n",
        "    n_mots_les_plus_frequents : int, facultatif\n",
        "        Nombre de mots les plus fréquents à tracer (par défaut : 10).\n",
        "\n",
        "    Retours\n",
        "    -------\n",
        "    None\n",
        "\n",
        "    Exemples\n",
        "    --------\n",
        "    >>> tracer_mots_les_plus_frequents(texte['description jeton'], n_mots_les_plus_frequents=10)\n",
        "    \"\"\"\n",
        "    # Aplatir la liste de jetons\n",
        "    vocabulaire = [jeton for sous_liste in jetons_serie for jeton in sous_liste]\n",
        "\n",
        "    # Vectoriser les jetons\n",
        "    vectoriseur = CountVectorizer()\n",
        "    sac_de_mots = vectoriseur.fit_transform(vocabulaire)\n",
        "\n",
        "    # Extraire les fréquences des mots\n",
        "    freq_mots = sac_de_mots.sum(axis=0)\n",
        "\n",
        "    # Trier les mots par fréquence\n",
        "    vocabulaire_trie = sorted(vectoriseur.vocabulary_, key=lambda x: freq_mots[0, vectoriseur.vocabulary_[x]], reverse=desc)\n",
        "\n",
        "    # Sélectionner les N mots les plus fréquents\n",
        "    plus_frequents = vocabulaire_trie[:n_mots_les_plus_frequents]\n",
        "\n",
        "    # Extraire les fréquences des N mots les plus fréquents\n",
        "    freqs = [freq_mots[0, vectoriseur.vocabulary_[mot]] for mot in plus_frequents]\n",
        "\n",
        "    # Tracer les mots les plus fréquents\n",
        "    plt.figure(figsize=(10, 5))\n",
        "    plt.bar(plus_frequents, freqs)\n",
        "    plt.title('Top {} mots les plus fréquents'.format(n_mots_les_plus_frequents))\n",
        "    plt.xlabel('Mots')\n",
        "    plt.ylabel('Fréquence')\n",
        "    plt.xticks(rotation=45)\n",
        "    plt.show()"
      ]
    },
    {
      "cell_type": "code",
      "execution_count": 27,
      "metadata": {
        "id": "uegpljcxf1Cq"
      },
      "outputs": [],
      "source": [
        "# Réduction taille de vocabulaire :\n",
        "# Retirer mots très fréquents qui portent pas forcément bcp de sens et/ou ceux qui sont trop peu fréquents et font du bruit stat pour les modèles"
      ]
    },
    {
      "cell_type": "code",
      "execution_count": null,
      "metadata": {
        "colab": {
          "base_uri": "https://localhost:8080/",
          "height": 546
        },
        "id": "-aFRXVvzf1Cq",
        "outputId": "175a1419-b193-4265-9b69-c1b175373521"
      },
      "outputs": [],
      "source": [
        "tracer_mots_les_plus_frequents(texte['description token'], 30,desc=True)"
      ]
    },
    {
      "cell_type": "code",
      "execution_count": 29,
      "metadata": {
        "colab": {
          "base_uri": "https://localhost:8080/",
          "height": 545
        },
        "id": "WfjheJMgf1Cq",
        "outputId": "3936c602-3a74-4ea4-fdb5-dc341ece3994"
      },
      "outputs": [],
      "source": [
        "def tracer_mots_les_plus_importants_tfidf(jetons_serie, n_mots_les_plus_importants=10):\n",
        "    \"\"\"\n",
        "    Trace un graphique à barres des mots les plus importants en utilisant TF-IDF dans une série de jetons.\n",
        "\n",
        "    Paramètres\n",
        "    ----------\n",
        "    jetons_serie : pandas.Series\n",
        "        Série de jetons (ou colonne de jetons dans un dataframe pandas).\n",
        "    n_mots_les_plus_importants : int, facultatif\n",
        "        Nombre de mots les plus importants à tracer (par défaut : 10).\n",
        "\n",
        "    Retours\n",
        "    -------\n",
        "    None\n",
        "\n",
        "    Exemples\n",
        "    --------\n",
        "    >>> tracer_mots_les_plus_importants_tfidf(texte['description jeton'], n_mots_les_plus_importants=10)\n",
        "    \"\"\"\n",
        "    # Joindre les listes de jetons en une seule chaîne de caractères par document\n",
        "    vocabulaire = [' '.join(jetons) for jetons in jetons_serie]\n",
        "\n",
        "    # Vectoriser les jetons en utilisant TF-IDF\n",
        "    vectoriseur = TfidfVectorizer()\n",
        "    tfidf_matrix = vectoriseur.fit_transform(vocabulaire)\n",
        "\n",
        "    # Extraire les scores TF-IDF moyens pour chaque terme\n",
        "    tfidf_scores = tfidf_matrix.mean(axis=0).A1\n",
        "\n",
        "    # Créer un DataFrame avec les termes et leurs scores TF-IDF\n",
        "    termes = vectoriseur.get_feature_names_out()\n",
        "    tfidf_df = pd.DataFrame({'terme': termes, 'tfidf': tfidf_scores})\n",
        "\n",
        "    # Trier les termes par score TF-IDF\n",
        "    tfidf_df = tfidf_df.sort_values(by='tfidf', ascending=False)\n",
        "\n",
        "    # Sélectionner les N termes les plus importants\n",
        "    top_termes = tfidf_df.head(n_mots_les_plus_importants)\n",
        "\n",
        "    # Tracer les termes les plus importants\n",
        "    plt.figure(figsize=(10, 5))\n",
        "    plt.bar(top_termes['terme'], top_termes['tfidf'])\n",
        "    plt.title('Top {} termes les plus importants (TF-IDF)'.format(n_mots_les_plus_importants))\n",
        "    plt.xlabel('Termes')\n",
        "    plt.ylabel('Score TF-IDF')\n",
        "    plt.xticks(rotation=45)\n",
        "    plt.show()"
      ]
    },
    {
      "cell_type": "code",
      "execution_count": null,
      "metadata": {},
      "outputs": [],
      "source": [
        "tracer_mots_les_plus_importants_tfidf(texte['description token'], n_mots_les_plus_importants=30)"
      ]
    },
    {
      "cell_type": "code",
      "execution_count": null,
      "metadata": {
        "colab": {
          "base_uri": "https://localhost:8080/",
          "height": 335
        },
        "id": "Rqo2NlwBf1Cq",
        "outputId": "1ce9ab87-79dc-46e5-f448-a220ca2b2095"
      },
      "outputs": [],
      "source": [
        "# Distribution du nombre de token dans le corpus\n",
        "\n",
        "(texte['description token'].apply(len)).describe()"
      ]
    },
    {
      "cell_type": "markdown",
      "metadata": {
        "id": "vaNHDfWnnYDP"
      },
      "source": [
        "### Nettoyage de token superflus"
      ]
    },
    {
      "cell_type": "code",
      "execution_count": 32,
      "metadata": {
        "id": "jei-LRZlrL5Q"
      },
      "outputs": [],
      "source": [
        "def delete_token_str(dataframe: pd.DataFrame, colonne: str, token: str):\n",
        "    df = dataframe.copy()\n",
        "    df[colonne] = df[colonne].str.replace(token, '', case=False, regex=True)\n",
        "    return df\n",
        "\n",
        "def delete_list_token_str(dataframe:pd.DataFrame, colonne:str, list_token:list):\n",
        "  df = dataframe.copy()\n",
        "  for token in list_token:\n",
        "    df = delete_token_str(df, colonne, token)\n",
        "  return df\n",
        "\n",
        "def delete_token_vect(dataframe:pd.DataFrame, colonne:str, token:str):\n",
        "  df = dataframe.copy()\n",
        "  df[colonne] = df[colonne].apply(lambda x: [jeton for jeton in x if jeton.lower() != token.lower()])\n",
        "  return df\n",
        "\n",
        "def delete_list_token_vect(dataframe:pd.DataFrame, colonne:str, list_token:list):\n",
        "  df = dataframe.copy()\n",
        "  for token in list_token:\n",
        "    df = delete_token_vect(df, colonne, token)\n",
        "  return df\n",
        "\n",
        "def delete_list_token(dataframe:pd.DataFrame, colonne:str, list_token:list):\n",
        "  df = dataframe.copy()\n",
        "  df = delete_list_token_str(df, colonne+' token raw', list_token)\n",
        "  df = delete_list_token_vect(df, colonne+' token', list_token)\n",
        "  return df"
      ]
    },
    {
      "cell_type": "code",
      "execution_count": null,
      "metadata": {
        "colab": {
          "base_uri": "https://localhost:8080/",
          "height": 574
        },
        "id": "s3A-R9SPsLqU",
        "outputId": "e06eaa9a-f92b-4fe0-966e-9e94283f5693"
      },
      "outputs": [],
      "source": [
        "df_test = pd.DataFrame({\n",
        "    'text': [\n",
        "        'Hello, how are you today?',\n",
        "        'I am doing well, thank you.',\n",
        "        'This is an example.',\n",
        "        'Add more lines.',\n",
        "        'As many as you want.',\n",
        "        'Oops, I made a mistake.',\n",
        "        'This is another line.',\n",
        "        'Oops, I did it again!',\n",
        "        'More and more lines.',\n",
        "        'Keep adding them.',\n",
        "        'Oops, I cannot stop!',\n",
        "        'Almost there.',\n",
        "        'Just a few more.',\n",
        "        'Oops, this is fun!',\n",
        "        'Finally, fifteen lines.'\n",
        "    ]\n",
        "})\n",
        "\n",
        "df_test = tokenize_corpus(df_test, 'text')\n",
        "df_test"
      ]
    },
    {
      "cell_type": "code",
      "execution_count": null,
      "metadata": {
        "colab": {
          "base_uri": "https://localhost:8080/",
          "height": 520
        },
        "id": "IynXR7kStrOo",
        "outputId": "8cbd2498-4866-4c71-987d-e5a522f792d2"
      },
      "outputs": [],
      "source": [
        "delete_token_str(df_test, 'text', 'oops')"
      ]
    },
    {
      "cell_type": "code",
      "execution_count": null,
      "metadata": {
        "colab": {
          "base_uri": "https://localhost:8080/",
          "height": 520
        },
        "id": "0cK8H36Zyo4B",
        "outputId": "df0377ac-7a66-461c-fc90-9f9eae3a6c49"
      },
      "outputs": [],
      "source": [
        "delete_token_vect(df_test, 'text token', 'Oops')"
      ]
    },
    {
      "cell_type": "code",
      "execution_count": null,
      "metadata": {
        "colab": {
          "base_uri": "https://localhost:8080/",
          "height": 520
        },
        "id": "IyLd2hzbtvED",
        "outputId": "3ffa3dc7-5dd3-459a-9654-d34c4016a31c"
      },
      "outputs": [],
      "source": [
        "delete_list_token_str(df_test, 'text', ['Oops', 'I'])"
      ]
    },
    {
      "cell_type": "code",
      "execution_count": null,
      "metadata": {
        "colab": {
          "base_uri": "https://localhost:8080/",
          "height": 520
        },
        "id": "yDOKZfTLzNAz",
        "outputId": "b4cb5925-26ee-41c1-baf6-cfdd7da2dbb3"
      },
      "outputs": [],
      "source": [
        "delete_list_token(df_test, 'text', ['Oops'])"
      ]
    },
    {
      "cell_type": "code",
      "execution_count": null,
      "metadata": {
        "colab": {
          "base_uri": "https://localhost:8080/"
        },
        "id": "dPBzWCXvuAaa",
        "outputId": "2f0ec795-d9b2-47c3-8f99-66e74a6da917"
      },
      "outputs": [],
      "source": [
        "len(texte[texte['description token raw'].str.contains('key')])"
      ]
    },
    {
      "cell_type": "code",
      "execution_count": null,
      "metadata": {
        "colab": {
          "base_uri": "https://localhost:8080/",
          "height": 398
        },
        "id": "LQNOl2gZv4sO",
        "outputId": "bcb182eb-49e6-49ca-e699-b5cc977ed21b"
      },
      "outputs": [],
      "source": [
        "texte.loc[texte['description token raw'].str.contains('key'),'description token raw'].sample(10, random_state=graine)"
      ]
    },
    {
      "cell_type": "code",
      "execution_count": null,
      "metadata": {
        "colab": {
          "base_uri": "https://localhost:8080/"
        },
        "id": "N02GgXA-wIE2",
        "outputId": "b572b38d-2416-43d0-a6e9-012bcc0a95a0"
      },
      "outputs": [],
      "source": [
        "len(texte[texte['description token raw'].str.contains('com')])"
      ]
    },
    {
      "cell_type": "code",
      "execution_count": null,
      "metadata": {
        "colab": {
          "base_uri": "https://localhost:8080/"
        },
        "id": "25OfnU_OwLUt",
        "outputId": "c2bed737-3cfe-4420-9d42-6f263c499187"
      },
      "outputs": [],
      "source": [
        "for text in texte.loc[texte['description token raw'].str.contains('com'),'description token'].sample(10, random_state=graine):\n",
        "  print(text,'\\n')"
      ]
    },
    {
      "cell_type": "markdown",
      "metadata": {
        "id": "utTIl_NanuUY"
      },
      "source": [
        "#### Selection des banwords"
      ]
    },
    {
      "cell_type": "code",
      "execution_count": 42,
      "metadata": {
        "id": "UiAr5h4ZyBSn"
      },
      "outputs": [],
      "source": [
        "corpus_ajuste = delete_list_token(texte, 'description', ['flipkart',\n",
        "                                                         'com',\n",
        "                                                         'flipkart.com',\n",
        "                                                         'key',\n",
        "                                                         'feature',\n",
        "                                                         'buy',\n",
        "                                                         'shipping',\n",
        "                                                         'delivery',\n",
        "                                                         'genuine',\n",
        "                                                         '\\r\\n',\n",
        "                                                         '\\r\\n\\r\\n',\n",
        "                                                         '\\t'])"
      ]
    },
    {
      "cell_type": "code",
      "execution_count": null,
      "metadata": {
        "colab": {
          "base_uri": "https://localhost:8080/",
          "height": 1000
        },
        "id": "zJymE1FY0hIQ",
        "outputId": "8e6caddb-ce81-483b-e8ee-14f9b0dc3ff0"
      },
      "outputs": [],
      "source": [
        "corpus_ajuste"
      ]
    },
    {
      "cell_type": "code",
      "execution_count": null,
      "metadata": {
        "colab": {
          "base_uri": "https://localhost:8080/",
          "height": 209
        },
        "id": "fYTiEAeOmhoi",
        "outputId": "e9d66cc2-ab89-4ffa-c77e-8fe19882791d"
      },
      "outputs": [],
      "source": [
        "corpus_ajuste.loc[corpus_ajuste['description'].str.contains('flipkart'),'description']"
      ]
    },
    {
      "cell_type": "code",
      "execution_count": null,
      "metadata": {
        "colab": {
          "base_uri": "https://localhost:8080/",
          "height": 1000
        },
        "id": "mqt_dFT7m8ez",
        "outputId": "c786339b-a2d6-4433-eaf8-4d9fa081fce5"
      },
      "outputs": [],
      "source": [
        "def delete_list_token_str(dataframe:pd.DataFrame, colonne:str, list_token:list):\n",
        "  df = dataframe.copy()\n",
        "  for token in list_token:\n",
        "    df[colonne] = df[colonne].apply(lambda x: ' '.join([mot for mot in x.split() if mot.lower() not in token]))\n",
        "  return df\n",
        "\n",
        "# Liste de mots à supprimer\n",
        "mots_a_supprimer = ['flipkart', 'com', 'flipkart.com', 'key', 'feature', 'buy', 'shipping', 'delivery', 'genuine', '\\r\\n', '\\r\\n\\r\\n', '\\t']\n",
        "\n",
        "# Supprimer les mots de la colonne 'description'\n",
        "corpus_ajuste = delete_list_token_str(corpus_ajuste, 'description', mots_a_supprimer)\n",
        "\n",
        "# Afficher le corpus ajusté\n",
        "corpus_ajuste\n"
      ]
    },
    {
      "cell_type": "code",
      "execution_count": null,
      "metadata": {
        "colab": {
          "base_uri": "https://localhost:8080/",
          "height": 84
        },
        "id": "n75gYo58nOfb",
        "outputId": "038e8286-adfb-4c1e-dae2-9cdf9f52b668"
      },
      "outputs": [],
      "source": [
        "corpus_ajuste.loc[corpus_ajuste['description'].str.contains('flipkart'),'description']"
      ]
    },
    {
      "cell_type": "markdown",
      "metadata": {
        "id": "aELLDRgCnzGK"
      },
      "source": [
        "### Nouveau tfidf"
      ]
    },
    {
      "cell_type": "code",
      "execution_count": null,
      "metadata": {
        "colab": {
          "base_uri": "https://localhost:8080/",
          "height": 545
        },
        "id": "5VmWCEUxt5yc",
        "outputId": "1e1e071e-2b2a-4902-8568-dac60f956d3b"
      },
      "outputs": [],
      "source": [
        "tracer_mots_les_plus_importants_tfidf(corpus_ajuste['description token'], n_mots_les_plus_importants=30)"
      ]
    },
    {
      "cell_type": "code",
      "execution_count": 48,
      "metadata": {
        "id": "r2uu_rldgaig"
      },
      "outputs": [],
      "source": [
        "vectorizer = TfidfVectorizer()\n",
        "X = vectorizer.fit_transform(corpus_ajuste['description token raw'])\n",
        "feature_names = vectorizer.get_feature_names_out()\n",
        "tfidf_matrix = X.toarray()"
      ]
    },
    {
      "cell_type": "code",
      "execution_count": null,
      "metadata": {
        "colab": {
          "base_uri": "https://localhost:8080/"
        },
        "id": "nnE0CzGeh2O6",
        "outputId": "664c257d-05c1-4286-c718-2c06533dcf73"
      },
      "outputs": [],
      "source": [
        "feature_names"
      ]
    },
    {
      "cell_type": "markdown",
      "metadata": {},
      "source": [
        "## Classification"
      ]
    },
    {
      "cell_type": "code",
      "execution_count": 50,
      "metadata": {},
      "outputs": [],
      "source": [
        "corpus_ajuste['simple_product_category_tree'] = corpus_ajuste['product_category_tree'].apply(lambda x: x.split(' >> ')[0] if isinstance(x, str) else x)\n",
        "# Use a regular expression to replace '[' and '\"' characters\n",
        "corpus_ajuste['simple_product_category_tree'] = corpus_ajuste['simple_product_category_tree'].str.replace(r'[\\[\"]', '', regex=True)\n"
      ]
    },
    {
      "cell_type": "code",
      "execution_count": null,
      "metadata": {},
      "outputs": [],
      "source": [
        "corpus_ajuste['simple_product_category_tree'].value_counts()"
      ]
    },
    {
      "cell_type": "code",
      "execution_count": null,
      "metadata": {},
      "outputs": [],
      "source": [
        "corpus_ajuste['simple_product_category_tree'].nunique()"
      ]
    },
    {
      "cell_type": "markdown",
      "metadata": {},
      "source": [
        "### LDA"
      ]
    },
    {
      "cell_type": "code",
      "execution_count": null,
      "metadata": {
        "colab": {
          "base_uri": "https://localhost:8080/",
          "height": 74
        },
        "id": "ZbenlyTEgF1o",
        "outputId": "a2c22320-58f5-465d-f3bb-f964f9ad2d90"
      },
      "outputs": [],
      "source": [
        "# LDA pour la classification\n",
        "\n",
        "n_cat = 7\n",
        "\n",
        "lda = LatentDirichletAllocation(n_components=n_cat, random_state=graine)\n",
        "lda.fit(tfidf_matrix)"
      ]
    },
    {
      "cell_type": "code",
      "execution_count": null,
      "metadata": {
        "colab": {
          "base_uri": "https://localhost:8080/"
        },
        "id": "cZTd32u6gj33",
        "outputId": "0043dd5a-6565-4465-dcfc-5ec43f490c31"
      },
      "outputs": [],
      "source": [
        "def display_topics(model, feature_names, no_top_words):\n",
        "    for topic_idx, topic in enumerate(model.components_):\n",
        "        print(\"Topic {}:\".format(topic_idx+1))\n",
        "        print([feature_names[i] for i in topic.argsort()[:-no_top_words - 1:-1] if i < len(feature_names)]) # Added a condition to check if the index is within the bounds of feature_names\n",
        "        print(\" \") # Added an empty print statement to add a space after each topic\n",
        "\n",
        "no_top_words = 10\n",
        "display_topics(lda, feature_names, no_top_words)"
      ]
    },
    {
      "cell_type": "code",
      "execution_count": null,
      "metadata": {},
      "outputs": [],
      "source": [
        "document_topics = lda.transform(tfidf_matrix)\n",
        "\n",
        "corpus_ajuste['LDA_label'] = document_topics.argmax(axis=1)\n",
        "\n",
        "corpus_ajuste"
      ]
    },
    {
      "cell_type": "code",
      "execution_count": null,
      "metadata": {},
      "outputs": [],
      "source": [
        "adjusted_rand_score(corpus_ajuste['LDA_label'], corpus_ajuste['simple_product_category_tree'])"
      ]
    },
    {
      "cell_type": "code",
      "execution_count": 57,
      "metadata": {
        "id": "1Ck0VHn7uPk4"
      },
      "outputs": [],
      "source": [
        " # gensim peut permettre d'enrichir les token par des ngrams pertinents\n",
        " # aussi regarder côté transformers huggingface"
      ]
    },
    {
      "cell_type": "markdown",
      "metadata": {},
      "source": [
        "### NMF"
      ]
    },
    {
      "cell_type": "code",
      "execution_count": null,
      "metadata": {
        "colab": {
          "base_uri": "https://localhost:8080/",
          "height": 74
        },
        "id": "5O-ghGGVozjY",
        "outputId": "128cc8d5-a530-45cb-b1f1-87798c0eb18c"
      },
      "outputs": [],
      "source": [
        "#NMF\n",
        "\n",
        "n_topics = 7 #Peut être essayer d'augmenter le nb de topics\n",
        "\n",
        "nmf = NMF(n_components=n_topics, random_state=graine,l1_ratio=.5)\n",
        "nmf.fit(tfidf_matrix)"
      ]
    },
    {
      "cell_type": "code",
      "execution_count": null,
      "metadata": {
        "colab": {
          "base_uri": "https://localhost:8080/"
        },
        "id": "Dk3Wym9SpxTb",
        "outputId": "19f4a01c-08c2-47a5-eb45-6a57820235b6"
      },
      "outputs": [],
      "source": [
        "display_topics(nmf, feature_names, no_top_words)"
      ]
    },
    {
      "cell_type": "code",
      "execution_count": null,
      "metadata": {
        "colab": {
          "base_uri": "https://localhost:8080/",
          "height": 1000
        },
        "id": "X_DjdhOsNbsC",
        "outputId": "0a07c671-5550-4c4b-aa80-6590dfcefacf"
      },
      "outputs": [],
      "source": [
        "document_topics = nmf.transform(tfidf_matrix)\n",
        "\n",
        "corpus_ajuste['NMF_label'] = document_topics.argmax(axis=1)\n",
        "\n",
        "corpus_ajuste"
      ]
    },
    {
      "cell_type": "code",
      "execution_count": null,
      "metadata": {},
      "outputs": [],
      "source": [
        "adjusted_rand_score(corpus_ajuste['NMF_label'], corpus_ajuste['simple_product_category_tree'])"
      ]
    },
    {
      "cell_type": "code",
      "execution_count": null,
      "metadata": {
        "colab": {
          "base_uri": "https://localhost:8080/"
        },
        "id": "Jy816emTQdu0",
        "outputId": "80fc44a1-6be2-4564-8e75-fcd8be1be5ae"
      },
      "outputs": [],
      "source": [
        "# Construire la table de contingence\n",
        "contingency_table = pd.crosstab(corpus_ajuste['NMF_label'], corpus_ajuste['simple_product_category_tree'])\n",
        "\n",
        "# Effectuer le test du chi2\n",
        "chi2, p, dof, expected = chi2_contingency(contingency_table)\n",
        "\n",
        "# Afficher les résultats\n",
        "print(\"Chi2 statistique: \", chi2)\n",
        "print(\"p-value: \", p)\n",
        "print(\"Degrés de liberté: \", dof)\n",
        "#print(\"Tableau des fréquences attendues: \\n\", expected)\n",
        "\n",
        "# Interpréter les résultats\n",
        "alpha = 0.05\n",
        "if p < alpha:\n",
        "    print(f\"On rejette l'hypothèse nulle d'indépendance entre le label et la catégorie de produit à un risque {round(100*alpha)} %.\")\n",
        "else:\n",
        "    print(\"On ne peut pas rejeter l'hypothèse nulle d'indépendance entre le label et la catégorie de produit.\")\n"
      ]
    },
    {
      "cell_type": "code",
      "execution_count": null,
      "metadata": {
        "colab": {
          "base_uri": "https://localhost:8080/",
          "height": 317
        },
        "id": "rYIdfedjcoT0",
        "outputId": "192123ba-27bd-43b9-d0c4-d045864f9580"
      },
      "outputs": [],
      "source": [
        "crosstab = pd.crosstab(corpus_ajuste['NMF_label'], corpus_ajuste['simple_product_category_tree'])\n",
        "crosstab"
      ]
    },
    {
      "cell_type": "code",
      "execution_count": null,
      "metadata": {
        "colab": {
          "base_uri": "https://localhost:8080/",
          "height": 317
        },
        "id": "DjbNtwQrODoF",
        "outputId": "3681c95e-6215-4598-b13e-fa805bda9c8e"
      },
      "outputs": [],
      "source": [
        "crosstab['total'] = crosstab.sum(axis=1) # Calculates the sum of each row and adds it as a new column named 'total'\n",
        "crosstab"
      ]
    },
    {
      "cell_type": "code",
      "execution_count": null,
      "metadata": {
        "colab": {
          "base_uri": "https://localhost:8080/",
          "height": 490
        },
        "id": "YbrWbJiVaGhI",
        "outputId": "08bcfec1-6301-40b8-cd77-27d63270df22"
      },
      "outputs": [],
      "source": [
        "corpus_ajuste['product_category_tree'].value_counts()"
      ]
    },
    {
      "cell_type": "markdown",
      "metadata": {
        "id": "tUBQUzlUn4EQ"
      },
      "source": [
        "## II - Embedding"
      ]
    },
    {
      "cell_type": "markdown",
      "metadata": {
        "id": "GkYqHnp-V844"
      },
      "source": [
        "### Définitions des méthodes d'embedding de documents"
      ]
    },
    {
      "cell_type": "code",
      "execution_count": null,
      "metadata": {
        "id": "GBWYaPPD5jZ5"
      },
      "outputs": [],
      "source": [
        "def create_gloVe_embeddings(dataframe: pd.DataFrame, colonne: str, model) -> pd.DataFrame:\n",
        "    \"\"\"\n",
        "    Crée une colonne supplémentaire contenant des embeddings gloVe pour chaque document dans un DataFrame.\n",
        "\n",
        "    Args:\n",
        "        dataframe: Le DataFrame contenant les documents.\n",
        "        colonne: Le nom de la colonne contenant les listes de tokens.\n",
        "        model: Le modèle gloVe pré-entraîné.\n",
        "\n",
        "    Returns:\n",
        "        Le DataFrame avec une nouvelle colonne contenant les embeddings gloVe.\n",
        "    \"\"\"\n",
        "\n",
        "    df = dataframe.copy()\n",
        "    embeddings = []\n",
        "    for liste_tokens in df[colonne]: #On parcout la colonne de token, ligne par ligne\n",
        "        document_embedding = np.zeros(model.vector_size)  #Initialisation du vecteur d'embedding\n",
        "        for token in liste_tokens: #A chaque nouvelle ligne, on regarde les token individuellement\n",
        "            if token in model: #Si le modèle a déjà rencontré le token, on l'ajoute à l'embedding\n",
        "                document_embedding += model[token]\n",
        "        embeddings.append(document_embedding)\n",
        "    df['gloVe_embeddings'] = embeddings #On obtient notre colonne d'embedding : un vecteur qui résume le document\n",
        "    return df\n",
        "\n",
        "def create_BERT_embeddings(dataframe: pd.DataFrame, colonne_texte: str, nom_modele='bert-base-cased', utiliser_gpu=True) -> pd.DataFrame:\n",
        "    \"\"\"\n",
        "    Crée deux colonnes supplémentaires contenant des embeddings BERT pour chaque document dans un DataFrame :\n",
        "    - 'bert_embeddings_cls' : Embeddings du token [CLS].\n",
        "\n",
        "    Args:\n",
        "        dataframe: Le DataFrame contenant les documents.\n",
        "        colonne_texte: Le nom de la colonne contenant les textes à encoder.\n",
        "        nom_modele: Le nom du modèle BERT pré-entraîné à utiliser (par défaut : 'bert-base-cased').\n",
        "        utiliser_gpu: Booléen indiquant si le calcul doit être effectué sur GPU (si disponible).\n",
        "\n",
        "    Returns:\n",
        "        Le DataFrame avec deux nouvelles colonnes contenant les embeddings BERT.\n",
        "    \"\"\"\n",
        "\n",
        "    df_copie = dataframe.copy()\n",
        "    tokenizer = AutoTokenizer.from_pretrained(nom_modele)\n",
        "    modele = AutoModel.from_pretrained(nom_modele)\n",
        "\n",
        "    if utiliser_gpu and torch.cuda.is_available():\n",
        "        device = torch.device('cuda')\n",
        "        modele.to(device)\n",
        "    else:\n",
        "        device = torch.device('cpu')\n",
        "\n",
        "    liste_embeddings_cls = []\n",
        "\n",
        "    for texte in df_copie[colonne_texte]:\n",
        "        inputs = tokenizer(texte, return_tensors=\"pt\", padding=True, truncation=True)\n",
        "        # Padding pour atteindre la longueur attendue par le modele, truncation quand c'est trop long\n",
        "        inputs.to(device)\n",
        "        with torch.no_grad():\n",
        "          outputs = modele(**inputs)\n",
        "\n",
        "        # Extraction de l'embedding du token [CLS]\n",
        "        embedding_cls = outputs.last_hidden_state[:, 0, :].cpu().squeeze().numpy()\n",
        "        embedding_cls_normalise = embedding_cls / np.linalg.norm(embedding_cls)\n",
        "        liste_embeddings_cls.append(embedding_cls_normalise)\n",
        "\n",
        "    df_copie['bert_embeddings_cls'] = liste_embeddings_cls\n",
        "\n",
        "    return df_copie\n",
        "\n",
        "modele_use = hub.load(\"https://tfhub.dev/google/universal-sentence-encoder/4\")\n",
        "\n",
        "def create_USE_embeddings(dataframe: pd.DataFrame, colonne: str, model = modele_use) -> pd.DataFrame:\n",
        "    \"\"\"\n",
        "    Crée une colonne supplémentaire contenant des embeddings USE (Universal Sentence Encoder)\n",
        "    pour chaque document dans un DataFrame.\n",
        "\n",
        "    Args:\n",
        "        dataframe: Le DataFrame contenant les documents.\n",
        "        colonne: Le nom de la colonne contenant les textes à encoder.\n",
        "\n",
        "    Returns:\n",
        "        Le DataFrame avec une nouvelle colonne contenant les embeddings USE.\n",
        "    \"\"\"\n",
        "\n",
        "    df = dataframe.copy()\n",
        "\n",
        "    # Générer les embeddings\n",
        "    embeddings = model(df[colonne]).numpy()\n",
        "\n",
        "    # Ajouter les embeddings au DataFrame\n",
        "    df['use_embeddings'] = list(embeddings)\n",
        "\n",
        "    return df"
      ]
    },
    {
      "cell_type": "markdown",
      "metadata": {
        "id": "wG7gacC9Vhf4"
      },
      "source": [
        "### gloVe"
      ]
    },
    {
      "cell_type": "code",
      "execution_count": 67,
      "metadata": {
        "id": "zYNA_j4ZRu5o"
      },
      "outputs": [],
      "source": [
        "corpus_gloVe = create_gloVe_embeddings(corpus_ajuste, 'description token', model=wv)"
      ]
    },
    {
      "cell_type": "code",
      "execution_count": null,
      "metadata": {
        "colab": {
          "base_uri": "https://localhost:8080/",
          "height": 288
        },
        "id": "VpcLkruawqJz",
        "outputId": "802eb69f-901f-4e73-ebd0-3af4a7a821f3"
      },
      "outputs": [],
      "source": [
        "corpus_gloVe.sample(2, random_state = graine)"
      ]
    },
    {
      "cell_type": "code",
      "execution_count": null,
      "metadata": {
        "colab": {
          "base_uri": "https://localhost:8080/",
          "height": 178
        },
        "id": "bNt8hj8WTEtI",
        "outputId": "49c98ec7-e2a8-4a2c-d58d-d8fa914a4677"
      },
      "outputs": [],
      "source": [
        "corpus_gloVe['gloVe_embeddings'].sample(3, random_state=graine)"
      ]
    },
    {
      "cell_type": "code",
      "execution_count": null,
      "metadata": {
        "colab": {
          "base_uri": "https://localhost:8080/",
          "height": 597
        },
        "id": "V8GHDl7TKp3m",
        "outputId": "c925e6f5-960d-43a4-a088-f7ff1512cfe3"
      },
      "outputs": [],
      "source": [
        "# Réduire la dimensionnalité des embeddings avec UMAP\n",
        "reducer = umap.UMAP(n_neighbors=80, min_dist=0.4, metric='cosine', random_state=graine)\n",
        "embedding_2d = reducer.fit_transform(list(corpus_gloVe['gloVe_embeddings']))\n",
        "\n",
        "# Ajouter les embeddings 2D au DataFrame\n",
        "corpus_gloVe['umap_embedding_x'] = embedding_2d[:, 0]\n",
        "corpus_gloVe['umap_embedding_y'] = embedding_2d[:, 1]\n",
        "# Ajouter une 3e dimension\n",
        "# MatPlotLib3d pour faire des viz en 3D\n",
        "\n",
        "\n",
        "# Visualiser les embeddings 2D avec Plotly\n",
        "fig = px.scatter(corpus_gloVe, x='umap_embedding_x', y='umap_embedding_y',\n",
        "                 color='simple_product_category_tree', hover_data=['NMF_label'],\n",
        "                 title='UMAP Visualization of gloVe Embeddings')\n",
        "fig.show()\n"
      ]
    },
    {
      "cell_type": "code",
      "execution_count": 71,
      "metadata": {},
      "outputs": [],
      "source": [
        "# Kmeans + ARI pour comparer"
      ]
    },
    {
      "cell_type": "code",
      "execution_count": null,
      "metadata": {
        "colab": {
          "base_uri": "https://localhost:8080/",
          "height": 611
        },
        "id": "od-uctNQS9Uv",
        "outputId": "e143454c-f7f4-4448-ab3c-734efc6d06f7"
      },
      "outputs": [],
      "source": [
        "reducer = umap.UMAP(n_neighbors=80,\n",
        "                    n_components=3, # 3 dimensions au lieu de 2\n",
        "                    min_dist=0.4,\n",
        "                    metric='cosine',\n",
        "                    random_state=graine)\n",
        "embedding_3d = reducer.fit_transform(list(corpus_gloVe['gloVe_embeddings']))\n",
        "\n",
        "corpus_gloVe['umap_embedding_x'] = embedding_3d[:, 0]\n",
        "corpus_gloVe['umap_embedding_y'] = embedding_3d[:, 1]\n",
        "corpus_gloVe['umap_embedding_z'] = embedding_3d[:, 2]\n",
        "\n",
        "fig = px.scatter_3d(corpus_gloVe,\n",
        "                    x='umap_embedding_x',\n",
        "                    y='umap_embedding_y',\n",
        "                    z='umap_embedding_z',\n",
        "                    color='simple_product_category_tree',\n",
        "                    hover_data=['NMF_label'],\n",
        "                    title='UMAP 3D Visualization of gloVe Embeddings')\n",
        "fig.show()"
      ]
    },
    {
      "cell_type": "code",
      "execution_count": null,
      "metadata": {},
      "outputs": [],
      "source": [
        "# Prendre toutes les dimensions (donc pas après umap)\n",
        "\n",
        "kmeans = KMeans(n_clusters=7, random_state=graine, n_init='auto').fit(corpus_gloVe.loc[:,['umap_embedding_x','umap_embedding_y','umap_embedding_z']])\n",
        "corpus_gloVe['classif_non_supervisee'] = kmeans.labels_\n",
        "\n",
        "adjusted_rand_score(corpus_gloVe['simple_product_category_tree'], corpus_gloVe['classif_non_supervisee'])"
      ]
    },
    {
      "cell_type": "markdown",
      "metadata": {
        "id": "Tk3Da7bjBNr8"
      },
      "source": [
        "### USE"
      ]
    },
    {
      "cell_type": "code",
      "execution_count": 74,
      "metadata": {
        "id": "G-E2zu_aCWJY"
      },
      "outputs": [],
      "source": [
        "corpus_USE = create_USE_embeddings(corpus_ajuste, 'description')"
      ]
    },
    {
      "cell_type": "code",
      "execution_count": null,
      "metadata": {
        "colab": {
          "base_uri": "https://localhost:8080/",
          "height": 288
        },
        "id": "xuwaTNhyCaF1",
        "outputId": "504fb60c-35e5-4b66-e320-0e883958ead3"
      },
      "outputs": [],
      "source": [
        "corpus_USE.sample(2, random_state = graine)"
      ]
    },
    {
      "cell_type": "code",
      "execution_count": null,
      "metadata": {
        "colab": {
          "base_uri": "https://localhost:8080/"
        },
        "id": "bdf-hxcvDCyR",
        "outputId": "fba830ab-4ded-4789-9bf6-fd1549672688"
      },
      "outputs": [],
      "source": [
        "for embeddings in corpus_USE['use_embeddings'].sample(10, random_state=graine):\n",
        "  print(len(embeddings))"
      ]
    },
    {
      "cell_type": "code",
      "execution_count": null,
      "metadata": {
        "colab": {
          "base_uri": "https://localhost:8080/",
          "height": 611
        },
        "id": "ddqn3705DFyX",
        "outputId": "903c591d-a301-4d2e-d740-47624e1389dc"
      },
      "outputs": [],
      "source": [
        "# Réduire la dimensionnalité des embeddings avec UMAP\n",
        "reducer = umap.UMAP(n_neighbors=80, min_dist=0.6, metric='cosine', random_state=graine)\n",
        "embedding_2d = reducer.fit_transform(list(corpus_USE['use_embeddings']))\n",
        "\n",
        "# Ajouter les embeddings 2D au DataFrame\n",
        "corpus_USE['umap_embedding_x'] = embedding_2d[:, 0]\n",
        "corpus_USE['umap_embedding_y'] = embedding_2d[:, 1]\n",
        "# Ajouter une 3e dimension\n",
        "# MatPlotLib3d pour faire des viz en 3D\n",
        "\n",
        "\n",
        "# Visualiser les embeddings 2D avec Plotly\n",
        "fig = px.scatter(corpus_USE, x='umap_embedding_x', y='umap_embedding_y',\n",
        "                 color='simple_product_category_tree', hover_data=['NMF_label'],\n",
        "                 title='UMAP Visualization of gloVe Embeddings')\n",
        "fig.show()\n"
      ]
    },
    {
      "cell_type": "code",
      "execution_count": null,
      "metadata": {
        "colab": {
          "base_uri": "https://localhost:8080/",
          "height": 611
        },
        "id": "i2c9q_kaDXFv",
        "outputId": "1b728249-3672-4b3d-941b-f848d5391d74"
      },
      "outputs": [],
      "source": [
        "reducer = umap.UMAP(n_neighbors=80,\n",
        "                    n_components=3, # 3 dimensions au lieu de 2\n",
        "                    min_dist=0.6,\n",
        "                    metric='cosine',\n",
        "                    random_state=graine)\n",
        "embedding_3d = reducer.fit_transform(list(corpus_USE['use_embeddings']))\n",
        "\n",
        "corpus_USE['umap_embedding_x'] = embedding_3d[:, 0]\n",
        "corpus_USE['umap_embedding_y'] = embedding_3d[:, 1]\n",
        "corpus_USE['umap_embedding_z'] = embedding_3d[:, 2]\n",
        "\n",
        "fig = px.scatter_3d(corpus_USE,\n",
        "                    x='umap_embedding_x',\n",
        "                    y='umap_embedding_y',\n",
        "                    z='umap_embedding_z',\n",
        "                    color='simple_product_category_tree',\n",
        "                    hover_data=['NMF_label'],\n",
        "                    title='UMAP 3D Visualization of gloVe Embeddings')\n",
        "fig.show()"
      ]
    },
    {
      "cell_type": "code",
      "execution_count": null,
      "metadata": {
        "colab": {
          "base_uri": "https://localhost:8080/",
          "height": 785
        },
        "id": "Ze9bgKt4EWhO",
        "outputId": "cb166703-46c3-4bb8-b9ff-b0e44e3c548b"
      },
      "outputs": [],
      "source": [
        "# Définir l'espace de recherche des paramètres\n",
        "param_dist = {\n",
        "    'n_neighbors': randint(10, 120),  # Distribution uniforme d'entiers entre 10 et 200\n",
        "    'min_dist': uniform(0.0, 1.0),       # Distribution uniforme continue entre 0 et 1\n",
        "}\n",
        "\n",
        "# Créer le modèle UMAP\n",
        "reducer = umap.UMAP(metric='cosine', random_state=graine, n_components=3)\n",
        "\n",
        "# Définir la métrique de validation\n",
        "def trustworthiness(X, X_embedded, n_neighbors=5):\n",
        "    return umap.trustworthiness(X, X_embedded, n_neighbors=n_neighbors)\n",
        "\n",
        "# Créer l'objet RandomizedSearchCV\n",
        "random_search = RandomizedSearchCV(\n",
        "    reducer,\n",
        "    param_distributions=param_dist,\n",
        "    n_iter=30,   # Nombre d'itérations de recherche aléatoire\n",
        "    scoring=trustworthiness,  # Métrique à optimiser\n",
        "    cv=3,        # Nombre de folds pour la validation croisée (si applicable)\n",
        "    random_state=graine,\n",
        "    n_jobs=-1    # Utiliser tous les cœurs disponibles pour le calcul parallèle\n",
        ")\n",
        "\n",
        "# Lancer la recherche aléatoire\n",
        "random_search.fit(list(corpus_USE['use_embeddings']))\n",
        "\n",
        "# Afficher les meilleurs paramètres\n",
        "print(\"Meilleurs paramètres trouvés : \", random_search.best_params_)\n",
        "\n",
        "# Obtenir le meilleur embedding UMAP\n",
        "best_umap_USE = random_search.best_estimator_.fit_transform(list(corpus_USE['use_embeddings']))\n",
        "\n",
        "# Ajouter les embeddings 3D au DataFrame\n",
        "corpus_USE['umap_embedding_x'] = best_umap_USE[:, 0]\n",
        "corpus_USE['umap_embedding_y'] = best_umap_USE[:, 1]\n",
        "corpus_USE['umap_embedding_z'] = best_umap_USE[:, 2]\n",
        "\n",
        "# Visualiser les embeddings 2D avec Plotly\n",
        "fig = px.scatter(corpus_USE, x='umap_embedding_x', y='umap_embedding_y',\n",
        "                 color='simple_product_category_tree', hover_data=['NMF_label'],\n",
        "                 title='UMAP Visualization of USE Embeddings')\n",
        "fig.show()"
      ]
    },
    {
      "cell_type": "code",
      "execution_count": null,
      "metadata": {
        "colab": {
          "base_uri": "https://localhost:8080/",
          "height": 542
        },
        "id": "6a4IstDhExV5",
        "outputId": "42299817-10b1-42f8-f3f8-150be06ec679"
      },
      "outputs": [],
      "source": [
        "fig = px.scatter_3d(corpus_USE,\n",
        "                    x='umap_embedding_x',\n",
        "                    y='umap_embedding_y',\n",
        "                    z='umap_embedding_z',\n",
        "                    color='simple_product_category_tree',\n",
        "                    hover_data=['NMF_label'],\n",
        "                    title='UMAP 3D Visualization of USE Embeddings')\n",
        "fig.show()"
      ]
    },
    {
      "cell_type": "code",
      "execution_count": null,
      "metadata": {},
      "outputs": [],
      "source": [
        "kmeans = KMeans(n_clusters=7, random_state=graine, n_init='auto').fit(corpus_USE.loc[:,['umap_embedding_x','umap_embedding_y','umap_embedding_z']])\n",
        "corpus_USE['classif_non_supervisee'] = kmeans.labels_\n",
        "\n",
        "adjusted_rand_score(corpus_USE['simple_product_category_tree'], corpus_USE['classif_non_supervisee'])"
      ]
    },
    {
      "cell_type": "markdown",
      "metadata": {
        "id": "u5IlnstaVnH9"
      },
      "source": [
        "### BERT"
      ]
    },
    {
      "cell_type": "code",
      "execution_count": null,
      "metadata": {
        "colab": {
          "base_uri": "https://localhost:8080/",
          "height": 336,
          "referenced_widgets": [
            "9b317771786042d3b522544740899e12",
            "4d0428618205468aa6a89a2e58819940",
            "596761ce5f4542ef978dab9e6ca30059",
            "4c1e785680034434aec5d20f4fe9f1ed",
            "417c69ec192e4c87b127dec26e255f76",
            "3c356c8e68a64b4bb34767dc69e0413c",
            "860564f05d654980acbb3fa513ff2e98",
            "f4b428ea289a46b9bf97b51f8a751cbb",
            "1e9157a2f12448eda7d2464a84fa06a2",
            "8700a4f220884f12964f160af2a2977e",
            "f1b66f86d61346e391fe5c283979ae27",
            "1470b622f23d4c658eab164afdb88325",
            "b91f6b1b739a4b76afd394ffaf438a16",
            "7c7f118137a242a4877505c54fbdd7ca",
            "ccfb601fb5f142669f26dceaea1bef81",
            "0934ab49f296494391713ae0f770be70",
            "af6f472cba0f476faa48d77dd1e15638",
            "508f1ef463d24ae69c5b2f629003de54",
            "c4afd20d5bb24c16b22ba6472198dca4",
            "eeeb5141550f48fe982a35c7d8baed1e",
            "ea6c779fe06c43c198e3c31a5caa0458",
            "9689caad9dd747ada83758d4464c3f53",
            "98adc8437870446ebe4f2aaaced6aa67",
            "014e19ec92f14a888b93965d4686e5ac",
            "0d83794391344ff383069b9516ced6bc",
            "fe0d5ed24eb04135a21660284c2d3e8a",
            "f8a0f36a1553445482d933b5f962f1cd",
            "023efff1f5654d888f4ed406e50f0829",
            "d9dbced0a44f4a2baeac03efa09096ef",
            "3bb631e5f8ee430c8c303225be190de8",
            "a7f73115b50946d1b1d4fba8396a5933",
            "971ad37370864a108d9f795332d9125a",
            "d91a1bffe2044c95bbc2cb4bec6aff80",
            "afd9abcd0c014c12a363efc6aa4c818e",
            "810d04fddcc643d6b377e93c521d7453",
            "63fc3d0cbb2947b3a852d286bd69e1bb",
            "d40687d60ae14d6c9e47eb49d2c1d719",
            "a6b937ce7c454461bd3bebfb76f41688",
            "1e8689bab974405daabbbc0013f0c854",
            "56d854dce37347628d33426c5cdf41b8",
            "42f61e4ec3a64fffaf42f3cff306267b",
            "7948966bc4de4265a944c53b3e7c850f",
            "a2a078e73cc44f0ab23a1c43223b6e3b",
            "67e2fde3d8c640e182b88235e85c7cbc",
            "93cc467c7b3646c3a7035b3e1aa93905",
            "56525fa643454213b7b4029ffa5e1dba",
            "405aff08e9bc46e2bc3f096045e0c95d",
            "7a6cd7aeb3584203abc28ae4cb43533b",
            "95c580565d9e480f9b3da223e9732d5e",
            "ea7b434ecb78490d8154f6ab3797119e",
            "b3bd775288db435f8c860c3ec026805a",
            "69ff95536d774c6e85a7c07fa08b7974",
            "1cbf38ee1131495cbcd30797d6dea8aa",
            "9a47976e18d84530bdf7c1b9edee2398",
            "8378b579b2814a85b9a384a7388041f7"
          ]
        },
        "id": "MKw9t62lZ95I",
        "outputId": "3caaa370-39da-4953-9c60-1053d3c3dca7"
      },
      "outputs": [],
      "source": [
        "corpus_BERT = create_BERT_embeddings(corpus_ajuste, 'description', utiliser_gpu=True)\n",
        "# 8 mn"
      ]
    },
    {
      "cell_type": "code",
      "execution_count": null,
      "metadata": {
        "colab": {
          "base_uri": "https://localhost:8080/",
          "height": 288
        },
        "id": "MZXG77esV1dn",
        "outputId": "22b0c15e-2005-4fa4-dc84-a7040d801d45"
      },
      "outputs": [],
      "source": [
        "corpus_BERT.sample(2, random_state = graine)"
      ]
    },
    {
      "cell_type": "code",
      "execution_count": null,
      "metadata": {
        "colab": {
          "base_uri": "https://localhost:8080/"
        },
        "id": "SlKnEqoYVFcl",
        "outputId": "1afd9d07-ca8d-4672-b471-151ef470c336"
      },
      "outputs": [],
      "source": [
        "for embeddings in corpus_BERT['bert_embeddings_cls'].sample(10, random_state=graine):\n",
        "  print(len(embeddings))"
      ]
    },
    {
      "cell_type": "code",
      "execution_count": null,
      "metadata": {
        "colab": {
          "base_uri": "https://localhost:8080/",
          "height": 611
        },
        "id": "uoYp8jNAVkEU",
        "outputId": "671729a2-c57e-408b-b0e8-bd7d02281906"
      },
      "outputs": [],
      "source": [
        "# Réduire la dimensionnalité des embeddings avec UMAP\n",
        "reducer = umap.UMAP(n_neighbors=100, min_dist=0.6, metric='cosine', random_state=graine)\n",
        "embedding_2d = reducer.fit_transform(list(corpus_BERT['bert_embeddings_cls']))\n",
        "\n",
        "# Ajouter les embeddings 2D au DataFrame\n",
        "corpus_BERT['umap_embedding_x'] = embedding_2d[:, 0]\n",
        "corpus_BERT['umap_embedding_y'] = embedding_2d[:, 1]\n",
        "# Ajouter une 3e dimension\n",
        "# MatPlotLib3d pour faire des viz en 3D\n",
        "\n",
        "\n",
        "# Visualiser les embeddings 2D avec Plotly\n",
        "fig = px.scatter(corpus_BERT, x='umap_embedding_x', y='umap_embedding_y',\n",
        "                 color='simple_product_category_tree', hover_data=['NMF_label'],\n",
        "                 title='UMAP Visualization of BERT Embeddings')\n",
        "fig.show()\n"
      ]
    },
    {
      "cell_type": "code",
      "execution_count": null,
      "metadata": {
        "colab": {
          "base_uri": "https://localhost:8080/",
          "height": 611
        },
        "id": "1lbJ484EI_cx",
        "outputId": "e10f635f-efab-4ca9-a51a-fab76e56d644"
      },
      "outputs": [],
      "source": [
        "# Réduire la dimensionnalité des embeddings avec UMAP\n",
        "reducer = umap.UMAP(n_neighbors=100, min_dist=0.6, metric='cosine', n_components=3, random_state=graine)\n",
        "embedding_3d = reducer.fit_transform(list(corpus_BERT['bert_embeddings_cls']))\n",
        "\n",
        "# Ajouter les embeddings 3D au DataFrame\n",
        "corpus_BERT['umap_embedding_x'] = embedding_3d[:, 0]\n",
        "corpus_BERT['umap_embedding_y'] = embedding_3d[:, 1]\n",
        "corpus_BERT['umap_embedding_z'] = embedding_3d[:, 2]\n",
        "\n",
        "# Visualiser les embeddings 3D avec Plotly\n",
        "\n",
        "fig = px.scatter_3d(corpus_USE,\n",
        "                    x='umap_embedding_x',\n",
        "                    y='umap_embedding_y',\n",
        "                    z='umap_embedding_z',\n",
        "                    color='simple_product_category_tree',\n",
        "                    hover_data=['NMF_label'],\n",
        "                    title='UMAP 3D Visualization of BERT Embeddings')\n",
        "fig.show()\n",
        "\n",
        "# Regarder avec les embeddings complet à quel point les catégories se chevauchent (distance max par exemple)"
      ]
    },
    {
      "cell_type": "code",
      "execution_count": null,
      "metadata": {
        "colab": {
          "base_uri": "https://localhost:8080/",
          "height": 805
        },
        "id": "kzQpRsSzrGFZ",
        "outputId": "5e652c07-7336-4198-c125-d2f5aa55bf11"
      },
      "outputs": [],
      "source": [
        "# Définir l'espace de recherche des paramètres\n",
        "param_dist = {\n",
        "    'n_neighbors': randint(10, 120),  # Distribution uniforme d'entiers entre 10 et 200\n",
        "    'min_dist': uniform(0.0, 1.0),       # Distribution uniforme continue entre 0 et 1\n",
        "}\n",
        "\n",
        "# Créer le modèle UMAP\n",
        "reducer = umap.UMAP(metric='cosine', random_state=graine, n_components=3)\n",
        "\n",
        "# Définir la métrique de validation\n",
        "def trustworthiness(X, X_embedded, n_neighbors=5):\n",
        "    return umap.trustworthiness(X, X_embedded, n_neighbors=n_neighbors)\n",
        "\n",
        "# Créer l'objet RandomizedSearchCV\n",
        "random_search = RandomizedSearchCV(\n",
        "    reducer,\n",
        "    param_distributions=param_dist,\n",
        "    n_iter=30,   # Nombre d'itérations de recherche aléatoire\n",
        "    scoring=trustworthiness,  # Métrique à optimiser\n",
        "    cv=3,        # Nombre de folds pour la validation croisée (si applicable)\n",
        "    random_state=graine,\n",
        "    n_jobs=-1    # Utiliser tous les cœurs disponibles pour le calcul parallèle\n",
        ")\n",
        "\n",
        "# Lancer la recherche aléatoire\n",
        "random_search.fit(list(corpus_BERT['bert_embeddings_cls']))\n",
        "\n",
        "# Afficher les meilleurs paramètres\n",
        "print(\"Meilleurs paramètres trouvés : \", random_search.best_params_)\n",
        "\n",
        "# Obtenir le meilleur embedding UMAP\n",
        "best_UMAP_BERT = random_search.best_estimator_.fit_transform(list(corpus_BERT['bert_embeddings_cls']))\n",
        "\n",
        "# Ajouter les embeddings 2D au DataFrame\n",
        "corpus_BERT['umap_embedding_x'] = best_UMAP_BERT[:, 0]\n",
        "corpus_BERT['umap_embedding_y'] = best_UMAP_BERT[:, 1]\n",
        "corpus_BERT['umap_embedding_z'] = best_UMAP_BERT[:, 2]\n",
        "\n",
        "# Visualiser les embeddings 2D avec Plotly\n",
        "fig = px.scatter(corpus_BERT, x='umap_embedding_x', y='umap_embedding_y',\n",
        "                 color='simple_product_category_tree', hover_data=['NMF_label'],\n",
        "                 title='UMAP Visualization of BERT Embeddings')\n",
        "fig.show()"
      ]
    },
    {
      "cell_type": "code",
      "execution_count": null,
      "metadata": {
        "colab": {
          "base_uri": "https://localhost:8080/",
          "height": 542
        },
        "id": "HqA35KX9VsAS",
        "outputId": "707f617f-f4cc-4973-fc36-b2532a9e8310"
      },
      "outputs": [],
      "source": [
        "fig = px.scatter_3d(corpus_BERT,\n",
        "                    x='umap_embedding_x',\n",
        "                    y='umap_embedding_y',\n",
        "                    z='umap_embedding_z',\n",
        "                    color='simple_product_category_tree',\n",
        "                    hover_data=['NMF_label'],\n",
        "                    title='UMAP 3D Visualization of BERT Embeddings')\n",
        "fig.show()"
      ]
    },
    {
      "cell_type": "code",
      "execution_count": null,
      "metadata": {},
      "outputs": [],
      "source": [
        "kmeans = KMeans(n_clusters=7, random_state=graine, n_init='auto').fit(corpus_BERT.loc[:,['umap_embedding_x','umap_embedding_y','umap_embedding_z']])\n",
        "corpus_BERT['classif_non_supervisee'] = kmeans.labels_\n",
        "\n",
        "adjusted_rand_score(corpus_BERT['simple_product_category_tree'], corpus_BERT['classif_non_supervisee'])"
      ]
    },
    {
      "cell_type": "markdown",
      "metadata": {
        "id": "ysG_ebIBL5BD"
      },
      "source": [
        "# B. Image"
      ]
    },
    {
      "cell_type": "code",
      "execution_count": 90,
      "metadata": {},
      "outputs": [],
      "source": [
        "#keras image data sift"
      ]
    },
    {
      "cell_type": "markdown",
      "metadata": {},
      "source": [
        "## SIFT"
      ]
    },
    {
      "cell_type": "code",
      "execution_count": 91,
      "metadata": {},
      "outputs": [],
      "source": [
        "def sift_analysis(image_path):\n",
        "    images = []\n",
        "    image = cv2.imread(image_path)\n",
        "\n",
        "    # Resizer les images si trop grandes\n",
        "    if image.shape[0] > 240 or image.shape[1] > 240:\n",
        "        # Le facteur de redimensionnement à partir de la dimension qui pose problème\n",
        "        facteur_redimensionnement = min(240 / image.shape[0], 240 / image.shape[1])\n",
        "\n",
        "        # Downscale\n",
        "        largeur = int(image.shape[1] * facteur_redimensionnement)\n",
        "        hauteur = int(image.shape[0] * facteur_redimensionnement)\n",
        "        image = cv2.resize(image, (largeur, hauteur))\n",
        "\n",
        "    # Conversion en échelle de NB\n",
        "    gray = cv2.cvtColor(image, cv2.IMREAD_GRAYSCALE)\n",
        "\n",
        "    # Détecteur avec 50 features max par image pour économiser de la puissance de calcul\n",
        "    sift = cv2.SIFT_create(nfeatures = 50)\n",
        "\n",
        "    # Calcul des descripteurs SIFT des keypoints\n",
        "    keypoints, descriptors = sift.detectAndCompute(gray, None)\n",
        "\n",
        "    return descriptors"
      ]
    },
    {
      "cell_type": "code",
      "execution_count": null,
      "metadata": {
        "colab": {
          "base_uri": "https://localhost:8080/"
        },
        "id": "-WkGINV8L9gH",
        "outputId": "33561039-c181-4664-e086-a42a003bcced"
      },
      "outputs": [],
      "source": [
        "image_directory = \"./Data/Images/\"\n",
        "\n",
        "# Récuperer les noms d'images dans le dossier spécifié\n",
        "image_files = [f for f in os.listdir(image_directory) if f.endswith(('.jpg', '.png', '.jpeg'))]\n",
        "\n",
        "# Initialisation des objets de stockage des descripteurs, et des Labels pour faire la jointure\n",
        "descriptors_list = []\n",
        "labels_list = []\n",
        "\n",
        "# SIFT pour tout le monde\n",
        "for image_file in tqdm(image_files,desc=\"Extraction des descripteurs\"):\n",
        "    image_path = os.path.join(image_directory, image_file)\n",
        "    label = os.path.splitext(image_file)[0]\n",
        "    descriptors = pd.DataFrame(sift_analysis(image_path))\n",
        "    descriptors['Label'] = label\n",
        "    descriptors_list.append(descriptors)"
      ]
    },
    {
      "cell_type": "code",
      "execution_count": null,
      "metadata": {},
      "outputs": [],
      "source": [
        "len(descriptors_list)"
      ]
    },
    {
      "cell_type": "code",
      "execution_count": 94,
      "metadata": {},
      "outputs": [],
      "source": [
        "# Création d'un dataframe pour ranger les descripteurs non vides\n",
        "tous_descripteurs = pd.concat([descriptor for descriptor in descriptors_list if descriptor is not None])"
      ]
    },
    {
      "cell_type": "code",
      "execution_count": null,
      "metadata": {},
      "outputs": [],
      "source": [
        "# 50k + descripteurs sur l'ensemble du jeu de données. 128 dimensions + 1 pour les labels\n",
        "tous_descripteurs.shape"
      ]
    },
    {
      "cell_type": "code",
      "execution_count": null,
      "metadata": {},
      "outputs": [],
      "source": [
        "tous_descripteurs"
      ]
    },
    {
      "cell_type": "code",
      "execution_count": null,
      "metadata": {},
      "outputs": [],
      "source": [
        "tous_descripteurs.loc[:,~tous_descripteurs.columns.isin(['Label'])]"
      ]
    },
    {
      "cell_type": "code",
      "execution_count": null,
      "metadata": {},
      "outputs": [],
      "source": [
        "# Créer le modèle GMM avec le nombre de clusters souhaité\n",
        "gmm = GaussianMixture(n_components=30, random_state=graine, reg_covar=1e-6)\n",
        "\n",
        "# Ajuster le modèle GMM avec l'échantillon\n",
        "gmm.fit(tous_descripteurs.loc[:, ~tous_descripteurs.columns.isin(['Label'])])"
      ]
    },
    {
      "cell_type": "code",
      "execution_count": 99,
      "metadata": {},
      "outputs": [],
      "source": [
        "# Prédire les probabilités d'appartenance pour l'ensemble des données\n",
        "probas = gmm.predict_proba(tous_descripteurs.loc[:, ~tous_descripteurs.columns.isin(['Label'])])\n",
        "\n",
        "# Convertir les probabilités en DataFrame et ajouter les noms de colonnes pour les clusters\n",
        "probas_df = pd.DataFrame(probas, columns=[f'Cluster_{i}' for i in range(probas.shape[1])])"
      ]
    },
    {
      "cell_type": "code",
      "execution_count": null,
      "metadata": {},
      "outputs": [],
      "source": [
        "tous_descripteurs.shape"
      ]
    },
    {
      "cell_type": "code",
      "execution_count": null,
      "metadata": {},
      "outputs": [],
      "source": [
        "probas_df.shape"
      ]
    },
    {
      "cell_type": "code",
      "execution_count": 102,
      "metadata": {},
      "outputs": [],
      "source": [
        "# Réinitialiser les indices des DataFrames\n",
        "tous_descripteurs = tous_descripteurs.reset_index(drop=True)\n",
        "probas_df = probas_df.reset_index(drop=True)\n",
        "\n",
        "# Ajouter les probabilités au DataFrame original\n",
        "probas_df = pd.concat([tous_descripteurs['Label'], probas_df], axis=1)"
      ]
    },
    {
      "cell_type": "code",
      "execution_count": null,
      "metadata": {},
      "outputs": [],
      "source": [
        "probas_df"
      ]
    },
    {
      "cell_type": "code",
      "execution_count": 104,
      "metadata": {},
      "outputs": [],
      "source": [
        "def compute_sum_pooling(df):\n",
        "    # Regroupe les données par 'Label' et somme les probabilités pour chaque cluster\n",
        "    histogrammes = df.groupby('Label').mean().reset_index()\n",
        "    return histogrammes\n",
        "\n",
        "# Calcul des histogrammes\n",
        "probas_df = compute_sum_pooling(probas_df)"
      ]
    },
    {
      "cell_type": "code",
      "execution_count": null,
      "metadata": {},
      "outputs": [],
      "source": [
        "probas_df"
      ]
    },
    {
      "cell_type": "code",
      "execution_count": 106,
      "metadata": {},
      "outputs": [],
      "source": [
        "probas_df = pd.merge(\n",
        "    left=probas_df,\n",
        "    right=corpus_ajuste.loc[:,['uniq_id','simple_product_category_tree']],\n",
        "    left_on='Label',\n",
        "    right_on='uniq_id',\n",
        "    how='left'\n",
        ")"
      ]
    },
    {
      "cell_type": "code",
      "execution_count": 107,
      "metadata": {},
      "outputs": [],
      "source": [
        "probas_df.drop(columns='uniq_id',inplace=True)"
      ]
    },
    {
      "cell_type": "code",
      "execution_count": null,
      "metadata": {},
      "outputs": [],
      "source": [
        "# 1. Préparation des données\n",
        "label_encoder = LabelEncoder()\n",
        "probas_ML = probas_df.drop(columns='Label', inplace=False)\n",
        "probas_ML['simple_product_category_tree'] = label_encoder.fit_transform(probas_ML['simple_product_category_tree'])\n",
        "\n",
        "X = probas_ML.drop('simple_product_category_tree', axis=1)\n",
        "y = probas_ML['simple_product_category_tree']\n",
        "\n",
        "# 2. Division des données en ensembles d'entraînement et de test\n",
        "X_train_ns, X_test_ns, y_train, y_test = train_test_split(X, y, test_size=0.2, random_state=graine, stratify=y)\n",
        "\n",
        "# # Normaliser les caractéristiques\n",
        "# scaler = StandardScaler()\n",
        "# X_train = scaler.fit_transform(X_train_ns)\n",
        "# X_test = scaler.transform(X_test_ns)\n",
        "\n",
        "# 3. Définir les paramètres à tester\n",
        "param_grid = {\n",
        "    'n_neighbors': [7, 9, 11, 13, 15],  # Liste des nombres de voisins à tester\n",
        "    'weights': ['uniform', 'distance'],  # Poids pour les voisins\n",
        "    'p': [1, 2]  # Paramètre de la distance de Minkowski (1 pour la distance de Manhattan, 2 pour la distance Euclidienne)\n",
        "}\n",
        "\n",
        "# 4. Créer l'objet GridSearchCV\n",
        "grid_search = GridSearchCV(KNeighborsClassifier(), param_grid, cv=5, n_jobs=-1, verbose=2)\n",
        "\n",
        "# 5. Entraîner GridSearchCV\n",
        "grid_search.fit(X_train_ns, y_train)\n",
        "\n",
        "# 6. Meilleurs paramètres et score\n",
        "print(\"Meilleurs paramètres trouvés : \", grid_search.best_params_)\n",
        "print(\"Meilleur score de validation croisée : \", grid_search.best_score_)\n",
        "\n",
        "# 7. Évaluation du modèle avec les meilleurs paramètres\n",
        "best_knn = grid_search.best_estimator_\n",
        "y_pred = best_knn.predict(X_test_ns)\n",
        "\n",
        "# Afficher les résultats\n",
        "print(\"Accuracy:\", accuracy_score(y_test, y_pred))\n",
        "print(\"Classification Report:\\n\", classification_report(y_test, y_pred, target_names=label_encoder.classes_))"
      ]
    },
    {
      "cell_type": "code",
      "execution_count": null,
      "metadata": {},
      "outputs": [],
      "source": [
        "print(\"Accuracy:\", accuracy_score(y_train, best_knn.predict(X_train)))\n",
        "print(\"Classification Report:\\n\", classification_report(y_train, best_knn.predict(X_train), target_names=label_encoder.classes_))"
      ]
    },
    {
      "cell_type": "code",
      "execution_count": null,
      "metadata": {},
      "outputs": [],
      "source": [
        "# # 1. Préparation des données\n",
        "# label_encoder = LabelEncoder()\n",
        "# probas_ML = probas_df.drop(columns='Label', inplace=False)\n",
        "# probas_ML['simple_product_category_tree'] = label_encoder.fit_transform(probas_ML['simple_product_category_tree'])\n",
        "\n",
        "# X = probas_ML.drop('simple_product_category_tree', axis=1)\n",
        "# y = probas_ML['simple_product_category_tree']\n",
        "\n",
        "# # 2. Division des données en ensembles d'entraînement et de test\n",
        "# X_train, X_test, y_train, y_test = train_test_split(X, y, test_size=0.2, random_state=graine, stratify=y)\n",
        "\n",
        "# 3. Définir les paramètres à tester\n",
        "param_dist = {\n",
        "    'C': uniform(loc=0.1, scale=100),\n",
        "    'gamma': uniform(loc=0.001, scale=10),\n",
        "    'kernel': ['linear', 'rbf', 'poly', 'sigmoid'],\n",
        "    'degree': randint(2, 6)\n",
        "}\n",
        "\n",
        "# 4. Créer l'objet StratifiedKFold\n",
        "cv = StratifiedKFold(n_splits=5, shuffle=True, random_state=graine)\n",
        "\n",
        "# 5. Créer l'objet RandomizedSearchCV avec StratifiedKFold\n",
        "random_search = RandomizedSearchCV(\n",
        "    SVC(),\n",
        "    param_distributions=param_dist,\n",
        "    n_iter=50,\n",
        "    cv=cv,\n",
        "    n_jobs=-1,\n",
        "    verbose=2,\n",
        "    random_state=graine,\n",
        "    scoring='accuracy'\n",
        ")\n",
        "\n",
        "# 6. Entraîner RandomizedSearchCV\n",
        "random_search.fit(X_train, y_train)\n",
        "\n",
        "# 7. Meilleurs paramètres et score\n",
        "print(\"Meilleurs paramètres trouvés : \", random_search.best_params_)\n",
        "print(\"Meilleur score de validation croisée : \", random_search.best_score_)\n",
        "\n",
        "# 8. Évaluation du modèle avec les meilleurs paramètres\n",
        "best_svc = random_search.best_estimator_\n",
        "y_pred = best_svc.predict(X_test)\n",
        "\n",
        "# Afficher les résultats\n",
        "print(\"Accuracy:\", accuracy_score(y_test, y_pred))\n",
        "print(\"Classification Report:\\n\", classification_report(y_test, y_pred, target_names=label_encoder.classes_))"
      ]
    },
    {
      "cell_type": "code",
      "execution_count": null,
      "metadata": {},
      "outputs": [],
      "source": [
        "# Supposons que best_svc est votre meilleur modèle SVM entraîné\n",
        "\n",
        "# Prédictions de probabilité\n",
        "y_pred_proba = best_svc.decision_function(X_test)\n",
        "\n",
        "# Binariser les étiquettes pour le calcul ROC\n",
        "n_classes = len(np.unique(y))\n",
        "y_test_bin = label_binarize(y_test, classes=range(n_classes))\n",
        "\n",
        "# Calculer ROC curve et ROC area pour chaque classe\n",
        "fpr = dict()\n",
        "tpr = dict()\n",
        "roc_auc = dict()\n",
        "for i in range(n_classes):\n",
        "    fpr[i], tpr[i], _ = roc_curve(y_test_bin[:, i], y_pred_proba[:, i])\n",
        "    roc_auc[i] = auc(fpr[i], tpr[i])\n",
        "\n",
        "# Tracer la courbe ROC\n",
        "plt.figure(figsize=(10, 8))\n",
        "for i in range(n_classes):\n",
        "    plt.plot(fpr[i], tpr[i], lw=2,\n",
        "             label='ROC curve of class {0} (area = {1:0.2f})'\n",
        "             ''.format(i, roc_auc[i]))\n",
        "\n",
        "plt.plot([0, 1], [0, 1], 'k--', lw=2)\n",
        "plt.xlim([0.0, 1.0])\n",
        "plt.ylim([0.0, 1.05])\n",
        "plt.xlabel('False Positive Rate')\n",
        "plt.ylabel('True Positive Rate')\n",
        "plt.title('Receiver Operating Characteristic (ROC) Curve')\n",
        "plt.legend(loc=\"lower right\")\n",
        "plt.show()\n",
        "\n",
        "# Calculer et afficher l'AUC moyenne\n",
        "print(f\"AUC moyenne: {np.mean(list(roc_auc.values())):.2f}\")\n",
        "\n",
        "# Calculer et afficher la matrice de confusion\n",
        "cm = confusion_matrix(y_test, y_pred)\n",
        "plt.figure(figsize=(10, 8))\n",
        "sns.heatmap(cm, annot=True, fmt='d', cmap='Blues')\n",
        "plt.title('Matrice de Confusion')\n",
        "plt.ylabel('Vraie classe')\n",
        "plt.xlabel('Classe prédite')\n",
        "plt.show()\n",
        "\n",
        "# Afficher le rapport de classification et l'accuracy comme précédemment\n",
        "print(\"Accuracy:\", accuracy_score(y_test, y_pred))\n",
        "print(\"Classification Report:\\n\", classification_report(y_test, y_pred, target_names=label_encoder.classes_))"
      ]
    },
    {
      "cell_type": "code",
      "execution_count": null,
      "metadata": {},
      "outputs": [],
      "source": [
        "# Overfit !!!\n",
        "print(\"Accuracy:\", accuracy_score(y_train, best_svc.predict(X_train)))\n",
        "print(\"Classification Report:\\n\", classification_report(y_train, best_svc.predict(X_train), target_names=label_encoder.classes_))"
      ]
    },
    {
      "cell_type": "markdown",
      "metadata": {},
      "source": [
        "## Transfer Learning"
      ]
    },
    {
      "cell_type": "markdown",
      "metadata": {},
      "source": [
        "### VGG16"
      ]
    },
    {
      "cell_type": "code",
      "execution_count": 189,
      "metadata": {},
      "outputs": [],
      "source": [
        "# Transfer Learning : https://www.tensorflow.org/api_docs/python/tf/keras/preprocessing/image/ImageDataGenerator\n",
        "# Transfer Learning : Rajouter rotation flip etc."
      ]
    },
    {
      "cell_type": "code",
      "execution_count": 113,
      "metadata": {},
      "outputs": [],
      "source": [
        "model = VGG16() # Création du modèle VGG-16 implementé par Keras"
      ]
    },
    {
      "cell_type": "code",
      "execution_count": 114,
      "metadata": {},
      "outputs": [],
      "source": [
        "img = load_img('./Data/Images/0a8a1e9c6659361c0c2b247f8a6471d0.jpg', target_size=(224, 224))  # Charger l'image\n",
        "img = img_to_array(img)  # Convertir en tableau numpy\n",
        "img = img.reshape((1, img.shape[0], img.shape[1], img.shape[2]))  # Créer la collection d'images (un seul échantillon)\n",
        "img = preprocess_input(img)  # Prétraiter l'image comme le veut VGG-16"
      ]
    },
    {
      "cell_type": "code",
      "execution_count": null,
      "metadata": {},
      "outputs": [],
      "source": [
        "y = model.predict(img)  # Prédir la classe de l'image (parmi les 1000 classes d'ImageNet)"
      ]
    },
    {
      "cell_type": "code",
      "execution_count": null,
      "metadata": {},
      "outputs": [],
      "source": [
        "# Afficher les 3 classes les plus probables\n",
        "print('Top 3 :', decode_predictions(y, top=3)[0])"
      ]
    },
    {
      "cell_type": "markdown",
      "metadata": {},
      "source": [
        "#### Réentrainement nouveau modèle"
      ]
    },
    {
      "cell_type": "code",
      "execution_count": null,
      "metadata": {},
      "outputs": [],
      "source": [
        "# Charger VGG-16 pré-entraîné sur ImageNet et sans les couches fully-connected\n",
        "model = VGG16(weights=\"imagenet\", include_top=False, input_shape=(224, 224, 3))\n",
        "\n",
        "# Récupérer la sortie de ce réseau\n",
        "x = model.output\n",
        "\n",
        "# Ajouter la nouvelle couche fully-connected pour la classification à 7 classes\n",
        "predictions = Dense(7, activation='softmax')(x)\n",
        "\n",
        "# Définir le nouveau modèle\n",
        "new_model = Model(inputs=model.input, outputs=predictions)"
      ]
    },
    {
      "cell_type": "code",
      "execution_count": 118,
      "metadata": {},
      "outputs": [],
      "source": [
        "# Ne pas entraîner les 5 premières couches (les plus basses) \n",
        "for layer in model.layers[:5]:\n",
        "   layer.trainable = False"
      ]
    },
    {
      "cell_type": "code",
      "execution_count": null,
      "metadata": {},
      "outputs": [],
      "source": [
        "\n",
        "\n",
        "# Compiler le modèle \n",
        "new_model.compile(loss=\"categorical_crossentropy\", optimizer=optimizers.SGD(lr=0.0001, momentum=0.9), metrics=[\"accuracy\"])\n",
        "\n",
        "# Entraîner sur les données d'entraînement (X_train, y_train)\n",
        "model_info = new_model.fit(X_train, y_train, epochs=epochs, batch_size=batch_size, verbose=2)"
      ]
    }
  ],
  "metadata": {
    "accelerator": "GPU",
    "colab": {
      "gpuType": "T4",
      "provenance": []
    },
    "kernelspec": {
      "display_name": "Python 3",
      "name": "python3"
    },
    "language_info": {
      "codemirror_mode": {
        "name": "ipython",
        "version": 3
      },
      "file_extension": ".py",
      "mimetype": "text/x-python",
      "name": "python",
      "nbconvert_exporter": "python",
      "pygments_lexer": "ipython3",
      "version": "3.10.7"
    },
    "widgets": {
      "application/vnd.jupyter.widget-state+json": {
        "014e19ec92f14a888b93965d4686e5ac": {
          "model_module": "@jupyter-widgets/controls",
          "model_module_version": "1.5.0",
          "model_name": "HTMLModel",
          "state": {
            "_dom_classes": [],
            "_model_module": "@jupyter-widgets/controls",
            "_model_module_version": "1.5.0",
            "_model_name": "HTMLModel",
            "_view_count": null,
            "_view_module": "@jupyter-widgets/controls",
            "_view_module_version": "1.5.0",
            "_view_name": "HTMLView",
            "description": "",
            "description_tooltip": null,
            "layout": "IPY_MODEL_023efff1f5654d888f4ed406e50f0829",
            "placeholder": "​",
            "style": "IPY_MODEL_d9dbced0a44f4a2baeac03efa09096ef",
            "value": "vocab.txt: 100%"
          }
        },
        "023efff1f5654d888f4ed406e50f0829": {
          "model_module": "@jupyter-widgets/base",
          "model_module_version": "1.2.0",
          "model_name": "LayoutModel",
          "state": {
            "_model_module": "@jupyter-widgets/base",
            "_model_module_version": "1.2.0",
            "_model_name": "LayoutModel",
            "_view_count": null,
            "_view_module": "@jupyter-widgets/base",
            "_view_module_version": "1.2.0",
            "_view_name": "LayoutView",
            "align_content": null,
            "align_items": null,
            "align_self": null,
            "border": null,
            "bottom": null,
            "display": null,
            "flex": null,
            "flex_flow": null,
            "grid_area": null,
            "grid_auto_columns": null,
            "grid_auto_flow": null,
            "grid_auto_rows": null,
            "grid_column": null,
            "grid_gap": null,
            "grid_row": null,
            "grid_template_areas": null,
            "grid_template_columns": null,
            "grid_template_rows": null,
            "height": null,
            "justify_content": null,
            "justify_items": null,
            "left": null,
            "margin": null,
            "max_height": null,
            "max_width": null,
            "min_height": null,
            "min_width": null,
            "object_fit": null,
            "object_position": null,
            "order": null,
            "overflow": null,
            "overflow_x": null,
            "overflow_y": null,
            "padding": null,
            "right": null,
            "top": null,
            "visibility": null,
            "width": null
          }
        },
        "0934ab49f296494391713ae0f770be70": {
          "model_module": "@jupyter-widgets/base",
          "model_module_version": "1.2.0",
          "model_name": "LayoutModel",
          "state": {
            "_model_module": "@jupyter-widgets/base",
            "_model_module_version": "1.2.0",
            "_model_name": "LayoutModel",
            "_view_count": null,
            "_view_module": "@jupyter-widgets/base",
            "_view_module_version": "1.2.0",
            "_view_name": "LayoutView",
            "align_content": null,
            "align_items": null,
            "align_self": null,
            "border": null,
            "bottom": null,
            "display": null,
            "flex": null,
            "flex_flow": null,
            "grid_area": null,
            "grid_auto_columns": null,
            "grid_auto_flow": null,
            "grid_auto_rows": null,
            "grid_column": null,
            "grid_gap": null,
            "grid_row": null,
            "grid_template_areas": null,
            "grid_template_columns": null,
            "grid_template_rows": null,
            "height": null,
            "justify_content": null,
            "justify_items": null,
            "left": null,
            "margin": null,
            "max_height": null,
            "max_width": null,
            "min_height": null,
            "min_width": null,
            "object_fit": null,
            "object_position": null,
            "order": null,
            "overflow": null,
            "overflow_x": null,
            "overflow_y": null,
            "padding": null,
            "right": null,
            "top": null,
            "visibility": null,
            "width": null
          }
        },
        "0d83794391344ff383069b9516ced6bc": {
          "model_module": "@jupyter-widgets/controls",
          "model_module_version": "1.5.0",
          "model_name": "FloatProgressModel",
          "state": {
            "_dom_classes": [],
            "_model_module": "@jupyter-widgets/controls",
            "_model_module_version": "1.5.0",
            "_model_name": "FloatProgressModel",
            "_view_count": null,
            "_view_module": "@jupyter-widgets/controls",
            "_view_module_version": "1.5.0",
            "_view_name": "ProgressView",
            "bar_style": "success",
            "description": "",
            "description_tooltip": null,
            "layout": "IPY_MODEL_3bb631e5f8ee430c8c303225be190de8",
            "max": 213450,
            "min": 0,
            "orientation": "horizontal",
            "style": "IPY_MODEL_a7f73115b50946d1b1d4fba8396a5933",
            "value": 213450
          }
        },
        "1470b622f23d4c658eab164afdb88325": {
          "model_module": "@jupyter-widgets/controls",
          "model_module_version": "1.5.0",
          "model_name": "HBoxModel",
          "state": {
            "_dom_classes": [],
            "_model_module": "@jupyter-widgets/controls",
            "_model_module_version": "1.5.0",
            "_model_name": "HBoxModel",
            "_view_count": null,
            "_view_module": "@jupyter-widgets/controls",
            "_view_module_version": "1.5.0",
            "_view_name": "HBoxView",
            "box_style": "",
            "children": [
              "IPY_MODEL_b91f6b1b739a4b76afd394ffaf438a16",
              "IPY_MODEL_7c7f118137a242a4877505c54fbdd7ca",
              "IPY_MODEL_ccfb601fb5f142669f26dceaea1bef81"
            ],
            "layout": "IPY_MODEL_0934ab49f296494391713ae0f770be70"
          }
        },
        "1cbf38ee1131495cbcd30797d6dea8aa": {
          "model_module": "@jupyter-widgets/controls",
          "model_module_version": "1.5.0",
          "model_name": "ProgressStyleModel",
          "state": {
            "_model_module": "@jupyter-widgets/controls",
            "_model_module_version": "1.5.0",
            "_model_name": "ProgressStyleModel",
            "_view_count": null,
            "_view_module": "@jupyter-widgets/base",
            "_view_module_version": "1.2.0",
            "_view_name": "StyleView",
            "bar_color": null,
            "description_width": ""
          }
        },
        "1e8689bab974405daabbbc0013f0c854": {
          "model_module": "@jupyter-widgets/base",
          "model_module_version": "1.2.0",
          "model_name": "LayoutModel",
          "state": {
            "_model_module": "@jupyter-widgets/base",
            "_model_module_version": "1.2.0",
            "_model_name": "LayoutModel",
            "_view_count": null,
            "_view_module": "@jupyter-widgets/base",
            "_view_module_version": "1.2.0",
            "_view_name": "LayoutView",
            "align_content": null,
            "align_items": null,
            "align_self": null,
            "border": null,
            "bottom": null,
            "display": null,
            "flex": null,
            "flex_flow": null,
            "grid_area": null,
            "grid_auto_columns": null,
            "grid_auto_flow": null,
            "grid_auto_rows": null,
            "grid_column": null,
            "grid_gap": null,
            "grid_row": null,
            "grid_template_areas": null,
            "grid_template_columns": null,
            "grid_template_rows": null,
            "height": null,
            "justify_content": null,
            "justify_items": null,
            "left": null,
            "margin": null,
            "max_height": null,
            "max_width": null,
            "min_height": null,
            "min_width": null,
            "object_fit": null,
            "object_position": null,
            "order": null,
            "overflow": null,
            "overflow_x": null,
            "overflow_y": null,
            "padding": null,
            "right": null,
            "top": null,
            "visibility": null,
            "width": null
          }
        },
        "1e9157a2f12448eda7d2464a84fa06a2": {
          "model_module": "@jupyter-widgets/controls",
          "model_module_version": "1.5.0",
          "model_name": "ProgressStyleModel",
          "state": {
            "_model_module": "@jupyter-widgets/controls",
            "_model_module_version": "1.5.0",
            "_model_name": "ProgressStyleModel",
            "_view_count": null,
            "_view_module": "@jupyter-widgets/base",
            "_view_module_version": "1.2.0",
            "_view_name": "StyleView",
            "bar_color": null,
            "description_width": ""
          }
        },
        "3bb631e5f8ee430c8c303225be190de8": {
          "model_module": "@jupyter-widgets/base",
          "model_module_version": "1.2.0",
          "model_name": "LayoutModel",
          "state": {
            "_model_module": "@jupyter-widgets/base",
            "_model_module_version": "1.2.0",
            "_model_name": "LayoutModel",
            "_view_count": null,
            "_view_module": "@jupyter-widgets/base",
            "_view_module_version": "1.2.0",
            "_view_name": "LayoutView",
            "align_content": null,
            "align_items": null,
            "align_self": null,
            "border": null,
            "bottom": null,
            "display": null,
            "flex": null,
            "flex_flow": null,
            "grid_area": null,
            "grid_auto_columns": null,
            "grid_auto_flow": null,
            "grid_auto_rows": null,
            "grid_column": null,
            "grid_gap": null,
            "grid_row": null,
            "grid_template_areas": null,
            "grid_template_columns": null,
            "grid_template_rows": null,
            "height": null,
            "justify_content": null,
            "justify_items": null,
            "left": null,
            "margin": null,
            "max_height": null,
            "max_width": null,
            "min_height": null,
            "min_width": null,
            "object_fit": null,
            "object_position": null,
            "order": null,
            "overflow": null,
            "overflow_x": null,
            "overflow_y": null,
            "padding": null,
            "right": null,
            "top": null,
            "visibility": null,
            "width": null
          }
        },
        "3c356c8e68a64b4bb34767dc69e0413c": {
          "model_module": "@jupyter-widgets/base",
          "model_module_version": "1.2.0",
          "model_name": "LayoutModel",
          "state": {
            "_model_module": "@jupyter-widgets/base",
            "_model_module_version": "1.2.0",
            "_model_name": "LayoutModel",
            "_view_count": null,
            "_view_module": "@jupyter-widgets/base",
            "_view_module_version": "1.2.0",
            "_view_name": "LayoutView",
            "align_content": null,
            "align_items": null,
            "align_self": null,
            "border": null,
            "bottom": null,
            "display": null,
            "flex": null,
            "flex_flow": null,
            "grid_area": null,
            "grid_auto_columns": null,
            "grid_auto_flow": null,
            "grid_auto_rows": null,
            "grid_column": null,
            "grid_gap": null,
            "grid_row": null,
            "grid_template_areas": null,
            "grid_template_columns": null,
            "grid_template_rows": null,
            "height": null,
            "justify_content": null,
            "justify_items": null,
            "left": null,
            "margin": null,
            "max_height": null,
            "max_width": null,
            "min_height": null,
            "min_width": null,
            "object_fit": null,
            "object_position": null,
            "order": null,
            "overflow": null,
            "overflow_x": null,
            "overflow_y": null,
            "padding": null,
            "right": null,
            "top": null,
            "visibility": null,
            "width": null
          }
        },
        "405aff08e9bc46e2bc3f096045e0c95d": {
          "model_module": "@jupyter-widgets/controls",
          "model_module_version": "1.5.0",
          "model_name": "FloatProgressModel",
          "state": {
            "_dom_classes": [],
            "_model_module": "@jupyter-widgets/controls",
            "_model_module_version": "1.5.0",
            "_model_name": "FloatProgressModel",
            "_view_count": null,
            "_view_module": "@jupyter-widgets/controls",
            "_view_module_version": "1.5.0",
            "_view_name": "ProgressView",
            "bar_style": "success",
            "description": "",
            "description_tooltip": null,
            "layout": "IPY_MODEL_69ff95536d774c6e85a7c07fa08b7974",
            "max": 435755784,
            "min": 0,
            "orientation": "horizontal",
            "style": "IPY_MODEL_1cbf38ee1131495cbcd30797d6dea8aa",
            "value": 435755784
          }
        },
        "417c69ec192e4c87b127dec26e255f76": {
          "model_module": "@jupyter-widgets/base",
          "model_module_version": "1.2.0",
          "model_name": "LayoutModel",
          "state": {
            "_model_module": "@jupyter-widgets/base",
            "_model_module_version": "1.2.0",
            "_model_name": "LayoutModel",
            "_view_count": null,
            "_view_module": "@jupyter-widgets/base",
            "_view_module_version": "1.2.0",
            "_view_name": "LayoutView",
            "align_content": null,
            "align_items": null,
            "align_self": null,
            "border": null,
            "bottom": null,
            "display": null,
            "flex": null,
            "flex_flow": null,
            "grid_area": null,
            "grid_auto_columns": null,
            "grid_auto_flow": null,
            "grid_auto_rows": null,
            "grid_column": null,
            "grid_gap": null,
            "grid_row": null,
            "grid_template_areas": null,
            "grid_template_columns": null,
            "grid_template_rows": null,
            "height": null,
            "justify_content": null,
            "justify_items": null,
            "left": null,
            "margin": null,
            "max_height": null,
            "max_width": null,
            "min_height": null,
            "min_width": null,
            "object_fit": null,
            "object_position": null,
            "order": null,
            "overflow": null,
            "overflow_x": null,
            "overflow_y": null,
            "padding": null,
            "right": null,
            "top": null,
            "visibility": null,
            "width": null
          }
        },
        "42f61e4ec3a64fffaf42f3cff306267b": {
          "model_module": "@jupyter-widgets/base",
          "model_module_version": "1.2.0",
          "model_name": "LayoutModel",
          "state": {
            "_model_module": "@jupyter-widgets/base",
            "_model_module_version": "1.2.0",
            "_model_name": "LayoutModel",
            "_view_count": null,
            "_view_module": "@jupyter-widgets/base",
            "_view_module_version": "1.2.0",
            "_view_name": "LayoutView",
            "align_content": null,
            "align_items": null,
            "align_self": null,
            "border": null,
            "bottom": null,
            "display": null,
            "flex": null,
            "flex_flow": null,
            "grid_area": null,
            "grid_auto_columns": null,
            "grid_auto_flow": null,
            "grid_auto_rows": null,
            "grid_column": null,
            "grid_gap": null,
            "grid_row": null,
            "grid_template_areas": null,
            "grid_template_columns": null,
            "grid_template_rows": null,
            "height": null,
            "justify_content": null,
            "justify_items": null,
            "left": null,
            "margin": null,
            "max_height": null,
            "max_width": null,
            "min_height": null,
            "min_width": null,
            "object_fit": null,
            "object_position": null,
            "order": null,
            "overflow": null,
            "overflow_x": null,
            "overflow_y": null,
            "padding": null,
            "right": null,
            "top": null,
            "visibility": null,
            "width": null
          }
        },
        "4c1e785680034434aec5d20f4fe9f1ed": {
          "model_module": "@jupyter-widgets/controls",
          "model_module_version": "1.5.0",
          "model_name": "HTMLModel",
          "state": {
            "_dom_classes": [],
            "_model_module": "@jupyter-widgets/controls",
            "_model_module_version": "1.5.0",
            "_model_name": "HTMLModel",
            "_view_count": null,
            "_view_module": "@jupyter-widgets/controls",
            "_view_module_version": "1.5.0",
            "_view_name": "HTMLView",
            "description": "",
            "description_tooltip": null,
            "layout": "IPY_MODEL_8700a4f220884f12964f160af2a2977e",
            "placeholder": "​",
            "style": "IPY_MODEL_f1b66f86d61346e391fe5c283979ae27",
            "value": " 49.0/49.0 [00:00&lt;00:00, 2.20kB/s]"
          }
        },
        "4d0428618205468aa6a89a2e58819940": {
          "model_module": "@jupyter-widgets/controls",
          "model_module_version": "1.5.0",
          "model_name": "HTMLModel",
          "state": {
            "_dom_classes": [],
            "_model_module": "@jupyter-widgets/controls",
            "_model_module_version": "1.5.0",
            "_model_name": "HTMLModel",
            "_view_count": null,
            "_view_module": "@jupyter-widgets/controls",
            "_view_module_version": "1.5.0",
            "_view_name": "HTMLView",
            "description": "",
            "description_tooltip": null,
            "layout": "IPY_MODEL_3c356c8e68a64b4bb34767dc69e0413c",
            "placeholder": "​",
            "style": "IPY_MODEL_860564f05d654980acbb3fa513ff2e98",
            "value": "tokenizer_config.json: 100%"
          }
        },
        "508f1ef463d24ae69c5b2f629003de54": {
          "model_module": "@jupyter-widgets/controls",
          "model_module_version": "1.5.0",
          "model_name": "DescriptionStyleModel",
          "state": {
            "_model_module": "@jupyter-widgets/controls",
            "_model_module_version": "1.5.0",
            "_model_name": "DescriptionStyleModel",
            "_view_count": null,
            "_view_module": "@jupyter-widgets/base",
            "_view_module_version": "1.2.0",
            "_view_name": "StyleView",
            "description_width": ""
          }
        },
        "56525fa643454213b7b4029ffa5e1dba": {
          "model_module": "@jupyter-widgets/controls",
          "model_module_version": "1.5.0",
          "model_name": "HTMLModel",
          "state": {
            "_dom_classes": [],
            "_model_module": "@jupyter-widgets/controls",
            "_model_module_version": "1.5.0",
            "_model_name": "HTMLModel",
            "_view_count": null,
            "_view_module": "@jupyter-widgets/controls",
            "_view_module_version": "1.5.0",
            "_view_name": "HTMLView",
            "description": "",
            "description_tooltip": null,
            "layout": "IPY_MODEL_ea7b434ecb78490d8154f6ab3797119e",
            "placeholder": "​",
            "style": "IPY_MODEL_b3bd775288db435f8c860c3ec026805a",
            "value": "model.safetensors: 100%"
          }
        },
        "56d854dce37347628d33426c5cdf41b8": {
          "model_module": "@jupyter-widgets/controls",
          "model_module_version": "1.5.0",
          "model_name": "DescriptionStyleModel",
          "state": {
            "_model_module": "@jupyter-widgets/controls",
            "_model_module_version": "1.5.0",
            "_model_name": "DescriptionStyleModel",
            "_view_count": null,
            "_view_module": "@jupyter-widgets/base",
            "_view_module_version": "1.2.0",
            "_view_name": "StyleView",
            "description_width": ""
          }
        },
        "596761ce5f4542ef978dab9e6ca30059": {
          "model_module": "@jupyter-widgets/controls",
          "model_module_version": "1.5.0",
          "model_name": "FloatProgressModel",
          "state": {
            "_dom_classes": [],
            "_model_module": "@jupyter-widgets/controls",
            "_model_module_version": "1.5.0",
            "_model_name": "FloatProgressModel",
            "_view_count": null,
            "_view_module": "@jupyter-widgets/controls",
            "_view_module_version": "1.5.0",
            "_view_name": "ProgressView",
            "bar_style": "success",
            "description": "",
            "description_tooltip": null,
            "layout": "IPY_MODEL_f4b428ea289a46b9bf97b51f8a751cbb",
            "max": 49,
            "min": 0,
            "orientation": "horizontal",
            "style": "IPY_MODEL_1e9157a2f12448eda7d2464a84fa06a2",
            "value": 49
          }
        },
        "63fc3d0cbb2947b3a852d286bd69e1bb": {
          "model_module": "@jupyter-widgets/controls",
          "model_module_version": "1.5.0",
          "model_name": "FloatProgressModel",
          "state": {
            "_dom_classes": [],
            "_model_module": "@jupyter-widgets/controls",
            "_model_module_version": "1.5.0",
            "_model_name": "FloatProgressModel",
            "_view_count": null,
            "_view_module": "@jupyter-widgets/controls",
            "_view_module_version": "1.5.0",
            "_view_name": "ProgressView",
            "bar_style": "success",
            "description": "",
            "description_tooltip": null,
            "layout": "IPY_MODEL_42f61e4ec3a64fffaf42f3cff306267b",
            "max": 435797,
            "min": 0,
            "orientation": "horizontal",
            "style": "IPY_MODEL_7948966bc4de4265a944c53b3e7c850f",
            "value": 435797
          }
        },
        "67e2fde3d8c640e182b88235e85c7cbc": {
          "model_module": "@jupyter-widgets/controls",
          "model_module_version": "1.5.0",
          "model_name": "DescriptionStyleModel",
          "state": {
            "_model_module": "@jupyter-widgets/controls",
            "_model_module_version": "1.5.0",
            "_model_name": "DescriptionStyleModel",
            "_view_count": null,
            "_view_module": "@jupyter-widgets/base",
            "_view_module_version": "1.2.0",
            "_view_name": "StyleView",
            "description_width": ""
          }
        },
        "69ff95536d774c6e85a7c07fa08b7974": {
          "model_module": "@jupyter-widgets/base",
          "model_module_version": "1.2.0",
          "model_name": "LayoutModel",
          "state": {
            "_model_module": "@jupyter-widgets/base",
            "_model_module_version": "1.2.0",
            "_model_name": "LayoutModel",
            "_view_count": null,
            "_view_module": "@jupyter-widgets/base",
            "_view_module_version": "1.2.0",
            "_view_name": "LayoutView",
            "align_content": null,
            "align_items": null,
            "align_self": null,
            "border": null,
            "bottom": null,
            "display": null,
            "flex": null,
            "flex_flow": null,
            "grid_area": null,
            "grid_auto_columns": null,
            "grid_auto_flow": null,
            "grid_auto_rows": null,
            "grid_column": null,
            "grid_gap": null,
            "grid_row": null,
            "grid_template_areas": null,
            "grid_template_columns": null,
            "grid_template_rows": null,
            "height": null,
            "justify_content": null,
            "justify_items": null,
            "left": null,
            "margin": null,
            "max_height": null,
            "max_width": null,
            "min_height": null,
            "min_width": null,
            "object_fit": null,
            "object_position": null,
            "order": null,
            "overflow": null,
            "overflow_x": null,
            "overflow_y": null,
            "padding": null,
            "right": null,
            "top": null,
            "visibility": null,
            "width": null
          }
        },
        "7948966bc4de4265a944c53b3e7c850f": {
          "model_module": "@jupyter-widgets/controls",
          "model_module_version": "1.5.0",
          "model_name": "ProgressStyleModel",
          "state": {
            "_model_module": "@jupyter-widgets/controls",
            "_model_module_version": "1.5.0",
            "_model_name": "ProgressStyleModel",
            "_view_count": null,
            "_view_module": "@jupyter-widgets/base",
            "_view_module_version": "1.2.0",
            "_view_name": "StyleView",
            "bar_color": null,
            "description_width": ""
          }
        },
        "7a6cd7aeb3584203abc28ae4cb43533b": {
          "model_module": "@jupyter-widgets/controls",
          "model_module_version": "1.5.0",
          "model_name": "HTMLModel",
          "state": {
            "_dom_classes": [],
            "_model_module": "@jupyter-widgets/controls",
            "_model_module_version": "1.5.0",
            "_model_name": "HTMLModel",
            "_view_count": null,
            "_view_module": "@jupyter-widgets/controls",
            "_view_module_version": "1.5.0",
            "_view_name": "HTMLView",
            "description": "",
            "description_tooltip": null,
            "layout": "IPY_MODEL_9a47976e18d84530bdf7c1b9edee2398",
            "placeholder": "​",
            "style": "IPY_MODEL_8378b579b2814a85b9a384a7388041f7",
            "value": " 436M/436M [00:02&lt;00:00, 149MB/s]"
          }
        },
        "7c7f118137a242a4877505c54fbdd7ca": {
          "model_module": "@jupyter-widgets/controls",
          "model_module_version": "1.5.0",
          "model_name": "FloatProgressModel",
          "state": {
            "_dom_classes": [],
            "_model_module": "@jupyter-widgets/controls",
            "_model_module_version": "1.5.0",
            "_model_name": "FloatProgressModel",
            "_view_count": null,
            "_view_module": "@jupyter-widgets/controls",
            "_view_module_version": "1.5.0",
            "_view_name": "ProgressView",
            "bar_style": "success",
            "description": "",
            "description_tooltip": null,
            "layout": "IPY_MODEL_c4afd20d5bb24c16b22ba6472198dca4",
            "max": 570,
            "min": 0,
            "orientation": "horizontal",
            "style": "IPY_MODEL_eeeb5141550f48fe982a35c7d8baed1e",
            "value": 570
          }
        },
        "810d04fddcc643d6b377e93c521d7453": {
          "model_module": "@jupyter-widgets/controls",
          "model_module_version": "1.5.0",
          "model_name": "HTMLModel",
          "state": {
            "_dom_classes": [],
            "_model_module": "@jupyter-widgets/controls",
            "_model_module_version": "1.5.0",
            "_model_name": "HTMLModel",
            "_view_count": null,
            "_view_module": "@jupyter-widgets/controls",
            "_view_module_version": "1.5.0",
            "_view_name": "HTMLView",
            "description": "",
            "description_tooltip": null,
            "layout": "IPY_MODEL_1e8689bab974405daabbbc0013f0c854",
            "placeholder": "​",
            "style": "IPY_MODEL_56d854dce37347628d33426c5cdf41b8",
            "value": "tokenizer.json: 100%"
          }
        },
        "8378b579b2814a85b9a384a7388041f7": {
          "model_module": "@jupyter-widgets/controls",
          "model_module_version": "1.5.0",
          "model_name": "DescriptionStyleModel",
          "state": {
            "_model_module": "@jupyter-widgets/controls",
            "_model_module_version": "1.5.0",
            "_model_name": "DescriptionStyleModel",
            "_view_count": null,
            "_view_module": "@jupyter-widgets/base",
            "_view_module_version": "1.2.0",
            "_view_name": "StyleView",
            "description_width": ""
          }
        },
        "860564f05d654980acbb3fa513ff2e98": {
          "model_module": "@jupyter-widgets/controls",
          "model_module_version": "1.5.0",
          "model_name": "DescriptionStyleModel",
          "state": {
            "_model_module": "@jupyter-widgets/controls",
            "_model_module_version": "1.5.0",
            "_model_name": "DescriptionStyleModel",
            "_view_count": null,
            "_view_module": "@jupyter-widgets/base",
            "_view_module_version": "1.2.0",
            "_view_name": "StyleView",
            "description_width": ""
          }
        },
        "8700a4f220884f12964f160af2a2977e": {
          "model_module": "@jupyter-widgets/base",
          "model_module_version": "1.2.0",
          "model_name": "LayoutModel",
          "state": {
            "_model_module": "@jupyter-widgets/base",
            "_model_module_version": "1.2.0",
            "_model_name": "LayoutModel",
            "_view_count": null,
            "_view_module": "@jupyter-widgets/base",
            "_view_module_version": "1.2.0",
            "_view_name": "LayoutView",
            "align_content": null,
            "align_items": null,
            "align_self": null,
            "border": null,
            "bottom": null,
            "display": null,
            "flex": null,
            "flex_flow": null,
            "grid_area": null,
            "grid_auto_columns": null,
            "grid_auto_flow": null,
            "grid_auto_rows": null,
            "grid_column": null,
            "grid_gap": null,
            "grid_row": null,
            "grid_template_areas": null,
            "grid_template_columns": null,
            "grid_template_rows": null,
            "height": null,
            "justify_content": null,
            "justify_items": null,
            "left": null,
            "margin": null,
            "max_height": null,
            "max_width": null,
            "min_height": null,
            "min_width": null,
            "object_fit": null,
            "object_position": null,
            "order": null,
            "overflow": null,
            "overflow_x": null,
            "overflow_y": null,
            "padding": null,
            "right": null,
            "top": null,
            "visibility": null,
            "width": null
          }
        },
        "93cc467c7b3646c3a7035b3e1aa93905": {
          "model_module": "@jupyter-widgets/controls",
          "model_module_version": "1.5.0",
          "model_name": "HBoxModel",
          "state": {
            "_dom_classes": [],
            "_model_module": "@jupyter-widgets/controls",
            "_model_module_version": "1.5.0",
            "_model_name": "HBoxModel",
            "_view_count": null,
            "_view_module": "@jupyter-widgets/controls",
            "_view_module_version": "1.5.0",
            "_view_name": "HBoxView",
            "box_style": "",
            "children": [
              "IPY_MODEL_56525fa643454213b7b4029ffa5e1dba",
              "IPY_MODEL_405aff08e9bc46e2bc3f096045e0c95d",
              "IPY_MODEL_7a6cd7aeb3584203abc28ae4cb43533b"
            ],
            "layout": "IPY_MODEL_95c580565d9e480f9b3da223e9732d5e"
          }
        },
        "95c580565d9e480f9b3da223e9732d5e": {
          "model_module": "@jupyter-widgets/base",
          "model_module_version": "1.2.0",
          "model_name": "LayoutModel",
          "state": {
            "_model_module": "@jupyter-widgets/base",
            "_model_module_version": "1.2.0",
            "_model_name": "LayoutModel",
            "_view_count": null,
            "_view_module": "@jupyter-widgets/base",
            "_view_module_version": "1.2.0",
            "_view_name": "LayoutView",
            "align_content": null,
            "align_items": null,
            "align_self": null,
            "border": null,
            "bottom": null,
            "display": null,
            "flex": null,
            "flex_flow": null,
            "grid_area": null,
            "grid_auto_columns": null,
            "grid_auto_flow": null,
            "grid_auto_rows": null,
            "grid_column": null,
            "grid_gap": null,
            "grid_row": null,
            "grid_template_areas": null,
            "grid_template_columns": null,
            "grid_template_rows": null,
            "height": null,
            "justify_content": null,
            "justify_items": null,
            "left": null,
            "margin": null,
            "max_height": null,
            "max_width": null,
            "min_height": null,
            "min_width": null,
            "object_fit": null,
            "object_position": null,
            "order": null,
            "overflow": null,
            "overflow_x": null,
            "overflow_y": null,
            "padding": null,
            "right": null,
            "top": null,
            "visibility": null,
            "width": null
          }
        },
        "9689caad9dd747ada83758d4464c3f53": {
          "model_module": "@jupyter-widgets/controls",
          "model_module_version": "1.5.0",
          "model_name": "DescriptionStyleModel",
          "state": {
            "_model_module": "@jupyter-widgets/controls",
            "_model_module_version": "1.5.0",
            "_model_name": "DescriptionStyleModel",
            "_view_count": null,
            "_view_module": "@jupyter-widgets/base",
            "_view_module_version": "1.2.0",
            "_view_name": "StyleView",
            "description_width": ""
          }
        },
        "971ad37370864a108d9f795332d9125a": {
          "model_module": "@jupyter-widgets/base",
          "model_module_version": "1.2.0",
          "model_name": "LayoutModel",
          "state": {
            "_model_module": "@jupyter-widgets/base",
            "_model_module_version": "1.2.0",
            "_model_name": "LayoutModel",
            "_view_count": null,
            "_view_module": "@jupyter-widgets/base",
            "_view_module_version": "1.2.0",
            "_view_name": "LayoutView",
            "align_content": null,
            "align_items": null,
            "align_self": null,
            "border": null,
            "bottom": null,
            "display": null,
            "flex": null,
            "flex_flow": null,
            "grid_area": null,
            "grid_auto_columns": null,
            "grid_auto_flow": null,
            "grid_auto_rows": null,
            "grid_column": null,
            "grid_gap": null,
            "grid_row": null,
            "grid_template_areas": null,
            "grid_template_columns": null,
            "grid_template_rows": null,
            "height": null,
            "justify_content": null,
            "justify_items": null,
            "left": null,
            "margin": null,
            "max_height": null,
            "max_width": null,
            "min_height": null,
            "min_width": null,
            "object_fit": null,
            "object_position": null,
            "order": null,
            "overflow": null,
            "overflow_x": null,
            "overflow_y": null,
            "padding": null,
            "right": null,
            "top": null,
            "visibility": null,
            "width": null
          }
        },
        "98adc8437870446ebe4f2aaaced6aa67": {
          "model_module": "@jupyter-widgets/controls",
          "model_module_version": "1.5.0",
          "model_name": "HBoxModel",
          "state": {
            "_dom_classes": [],
            "_model_module": "@jupyter-widgets/controls",
            "_model_module_version": "1.5.0",
            "_model_name": "HBoxModel",
            "_view_count": null,
            "_view_module": "@jupyter-widgets/controls",
            "_view_module_version": "1.5.0",
            "_view_name": "HBoxView",
            "box_style": "",
            "children": [
              "IPY_MODEL_014e19ec92f14a888b93965d4686e5ac",
              "IPY_MODEL_0d83794391344ff383069b9516ced6bc",
              "IPY_MODEL_fe0d5ed24eb04135a21660284c2d3e8a"
            ],
            "layout": "IPY_MODEL_f8a0f36a1553445482d933b5f962f1cd"
          }
        },
        "9a47976e18d84530bdf7c1b9edee2398": {
          "model_module": "@jupyter-widgets/base",
          "model_module_version": "1.2.0",
          "model_name": "LayoutModel",
          "state": {
            "_model_module": "@jupyter-widgets/base",
            "_model_module_version": "1.2.0",
            "_model_name": "LayoutModel",
            "_view_count": null,
            "_view_module": "@jupyter-widgets/base",
            "_view_module_version": "1.2.0",
            "_view_name": "LayoutView",
            "align_content": null,
            "align_items": null,
            "align_self": null,
            "border": null,
            "bottom": null,
            "display": null,
            "flex": null,
            "flex_flow": null,
            "grid_area": null,
            "grid_auto_columns": null,
            "grid_auto_flow": null,
            "grid_auto_rows": null,
            "grid_column": null,
            "grid_gap": null,
            "grid_row": null,
            "grid_template_areas": null,
            "grid_template_columns": null,
            "grid_template_rows": null,
            "height": null,
            "justify_content": null,
            "justify_items": null,
            "left": null,
            "margin": null,
            "max_height": null,
            "max_width": null,
            "min_height": null,
            "min_width": null,
            "object_fit": null,
            "object_position": null,
            "order": null,
            "overflow": null,
            "overflow_x": null,
            "overflow_y": null,
            "padding": null,
            "right": null,
            "top": null,
            "visibility": null,
            "width": null
          }
        },
        "9b317771786042d3b522544740899e12": {
          "model_module": "@jupyter-widgets/controls",
          "model_module_version": "1.5.0",
          "model_name": "HBoxModel",
          "state": {
            "_dom_classes": [],
            "_model_module": "@jupyter-widgets/controls",
            "_model_module_version": "1.5.0",
            "_model_name": "HBoxModel",
            "_view_count": null,
            "_view_module": "@jupyter-widgets/controls",
            "_view_module_version": "1.5.0",
            "_view_name": "HBoxView",
            "box_style": "",
            "children": [
              "IPY_MODEL_4d0428618205468aa6a89a2e58819940",
              "IPY_MODEL_596761ce5f4542ef978dab9e6ca30059",
              "IPY_MODEL_4c1e785680034434aec5d20f4fe9f1ed"
            ],
            "layout": "IPY_MODEL_417c69ec192e4c87b127dec26e255f76"
          }
        },
        "a2a078e73cc44f0ab23a1c43223b6e3b": {
          "model_module": "@jupyter-widgets/base",
          "model_module_version": "1.2.0",
          "model_name": "LayoutModel",
          "state": {
            "_model_module": "@jupyter-widgets/base",
            "_model_module_version": "1.2.0",
            "_model_name": "LayoutModel",
            "_view_count": null,
            "_view_module": "@jupyter-widgets/base",
            "_view_module_version": "1.2.0",
            "_view_name": "LayoutView",
            "align_content": null,
            "align_items": null,
            "align_self": null,
            "border": null,
            "bottom": null,
            "display": null,
            "flex": null,
            "flex_flow": null,
            "grid_area": null,
            "grid_auto_columns": null,
            "grid_auto_flow": null,
            "grid_auto_rows": null,
            "grid_column": null,
            "grid_gap": null,
            "grid_row": null,
            "grid_template_areas": null,
            "grid_template_columns": null,
            "grid_template_rows": null,
            "height": null,
            "justify_content": null,
            "justify_items": null,
            "left": null,
            "margin": null,
            "max_height": null,
            "max_width": null,
            "min_height": null,
            "min_width": null,
            "object_fit": null,
            "object_position": null,
            "order": null,
            "overflow": null,
            "overflow_x": null,
            "overflow_y": null,
            "padding": null,
            "right": null,
            "top": null,
            "visibility": null,
            "width": null
          }
        },
        "a6b937ce7c454461bd3bebfb76f41688": {
          "model_module": "@jupyter-widgets/base",
          "model_module_version": "1.2.0",
          "model_name": "LayoutModel",
          "state": {
            "_model_module": "@jupyter-widgets/base",
            "_model_module_version": "1.2.0",
            "_model_name": "LayoutModel",
            "_view_count": null,
            "_view_module": "@jupyter-widgets/base",
            "_view_module_version": "1.2.0",
            "_view_name": "LayoutView",
            "align_content": null,
            "align_items": null,
            "align_self": null,
            "border": null,
            "bottom": null,
            "display": null,
            "flex": null,
            "flex_flow": null,
            "grid_area": null,
            "grid_auto_columns": null,
            "grid_auto_flow": null,
            "grid_auto_rows": null,
            "grid_column": null,
            "grid_gap": null,
            "grid_row": null,
            "grid_template_areas": null,
            "grid_template_columns": null,
            "grid_template_rows": null,
            "height": null,
            "justify_content": null,
            "justify_items": null,
            "left": null,
            "margin": null,
            "max_height": null,
            "max_width": null,
            "min_height": null,
            "min_width": null,
            "object_fit": null,
            "object_position": null,
            "order": null,
            "overflow": null,
            "overflow_x": null,
            "overflow_y": null,
            "padding": null,
            "right": null,
            "top": null,
            "visibility": null,
            "width": null
          }
        },
        "a7f73115b50946d1b1d4fba8396a5933": {
          "model_module": "@jupyter-widgets/controls",
          "model_module_version": "1.5.0",
          "model_name": "ProgressStyleModel",
          "state": {
            "_model_module": "@jupyter-widgets/controls",
            "_model_module_version": "1.5.0",
            "_model_name": "ProgressStyleModel",
            "_view_count": null,
            "_view_module": "@jupyter-widgets/base",
            "_view_module_version": "1.2.0",
            "_view_name": "StyleView",
            "bar_color": null,
            "description_width": ""
          }
        },
        "af6f472cba0f476faa48d77dd1e15638": {
          "model_module": "@jupyter-widgets/base",
          "model_module_version": "1.2.0",
          "model_name": "LayoutModel",
          "state": {
            "_model_module": "@jupyter-widgets/base",
            "_model_module_version": "1.2.0",
            "_model_name": "LayoutModel",
            "_view_count": null,
            "_view_module": "@jupyter-widgets/base",
            "_view_module_version": "1.2.0",
            "_view_name": "LayoutView",
            "align_content": null,
            "align_items": null,
            "align_self": null,
            "border": null,
            "bottom": null,
            "display": null,
            "flex": null,
            "flex_flow": null,
            "grid_area": null,
            "grid_auto_columns": null,
            "grid_auto_flow": null,
            "grid_auto_rows": null,
            "grid_column": null,
            "grid_gap": null,
            "grid_row": null,
            "grid_template_areas": null,
            "grid_template_columns": null,
            "grid_template_rows": null,
            "height": null,
            "justify_content": null,
            "justify_items": null,
            "left": null,
            "margin": null,
            "max_height": null,
            "max_width": null,
            "min_height": null,
            "min_width": null,
            "object_fit": null,
            "object_position": null,
            "order": null,
            "overflow": null,
            "overflow_x": null,
            "overflow_y": null,
            "padding": null,
            "right": null,
            "top": null,
            "visibility": null,
            "width": null
          }
        },
        "afd9abcd0c014c12a363efc6aa4c818e": {
          "model_module": "@jupyter-widgets/controls",
          "model_module_version": "1.5.0",
          "model_name": "HBoxModel",
          "state": {
            "_dom_classes": [],
            "_model_module": "@jupyter-widgets/controls",
            "_model_module_version": "1.5.0",
            "_model_name": "HBoxModel",
            "_view_count": null,
            "_view_module": "@jupyter-widgets/controls",
            "_view_module_version": "1.5.0",
            "_view_name": "HBoxView",
            "box_style": "",
            "children": [
              "IPY_MODEL_810d04fddcc643d6b377e93c521d7453",
              "IPY_MODEL_63fc3d0cbb2947b3a852d286bd69e1bb",
              "IPY_MODEL_d40687d60ae14d6c9e47eb49d2c1d719"
            ],
            "layout": "IPY_MODEL_a6b937ce7c454461bd3bebfb76f41688"
          }
        },
        "b3bd775288db435f8c860c3ec026805a": {
          "model_module": "@jupyter-widgets/controls",
          "model_module_version": "1.5.0",
          "model_name": "DescriptionStyleModel",
          "state": {
            "_model_module": "@jupyter-widgets/controls",
            "_model_module_version": "1.5.0",
            "_model_name": "DescriptionStyleModel",
            "_view_count": null,
            "_view_module": "@jupyter-widgets/base",
            "_view_module_version": "1.2.0",
            "_view_name": "StyleView",
            "description_width": ""
          }
        },
        "b91f6b1b739a4b76afd394ffaf438a16": {
          "model_module": "@jupyter-widgets/controls",
          "model_module_version": "1.5.0",
          "model_name": "HTMLModel",
          "state": {
            "_dom_classes": [],
            "_model_module": "@jupyter-widgets/controls",
            "_model_module_version": "1.5.0",
            "_model_name": "HTMLModel",
            "_view_count": null,
            "_view_module": "@jupyter-widgets/controls",
            "_view_module_version": "1.5.0",
            "_view_name": "HTMLView",
            "description": "",
            "description_tooltip": null,
            "layout": "IPY_MODEL_af6f472cba0f476faa48d77dd1e15638",
            "placeholder": "​",
            "style": "IPY_MODEL_508f1ef463d24ae69c5b2f629003de54",
            "value": "config.json: 100%"
          }
        },
        "c4afd20d5bb24c16b22ba6472198dca4": {
          "model_module": "@jupyter-widgets/base",
          "model_module_version": "1.2.0",
          "model_name": "LayoutModel",
          "state": {
            "_model_module": "@jupyter-widgets/base",
            "_model_module_version": "1.2.0",
            "_model_name": "LayoutModel",
            "_view_count": null,
            "_view_module": "@jupyter-widgets/base",
            "_view_module_version": "1.2.0",
            "_view_name": "LayoutView",
            "align_content": null,
            "align_items": null,
            "align_self": null,
            "border": null,
            "bottom": null,
            "display": null,
            "flex": null,
            "flex_flow": null,
            "grid_area": null,
            "grid_auto_columns": null,
            "grid_auto_flow": null,
            "grid_auto_rows": null,
            "grid_column": null,
            "grid_gap": null,
            "grid_row": null,
            "grid_template_areas": null,
            "grid_template_columns": null,
            "grid_template_rows": null,
            "height": null,
            "justify_content": null,
            "justify_items": null,
            "left": null,
            "margin": null,
            "max_height": null,
            "max_width": null,
            "min_height": null,
            "min_width": null,
            "object_fit": null,
            "object_position": null,
            "order": null,
            "overflow": null,
            "overflow_x": null,
            "overflow_y": null,
            "padding": null,
            "right": null,
            "top": null,
            "visibility": null,
            "width": null
          }
        },
        "ccfb601fb5f142669f26dceaea1bef81": {
          "model_module": "@jupyter-widgets/controls",
          "model_module_version": "1.5.0",
          "model_name": "HTMLModel",
          "state": {
            "_dom_classes": [],
            "_model_module": "@jupyter-widgets/controls",
            "_model_module_version": "1.5.0",
            "_model_name": "HTMLModel",
            "_view_count": null,
            "_view_module": "@jupyter-widgets/controls",
            "_view_module_version": "1.5.0",
            "_view_name": "HTMLView",
            "description": "",
            "description_tooltip": null,
            "layout": "IPY_MODEL_ea6c779fe06c43c198e3c31a5caa0458",
            "placeholder": "​",
            "style": "IPY_MODEL_9689caad9dd747ada83758d4464c3f53",
            "value": " 570/570 [00:00&lt;00:00, 38.6kB/s]"
          }
        },
        "d40687d60ae14d6c9e47eb49d2c1d719": {
          "model_module": "@jupyter-widgets/controls",
          "model_module_version": "1.5.0",
          "model_name": "HTMLModel",
          "state": {
            "_dom_classes": [],
            "_model_module": "@jupyter-widgets/controls",
            "_model_module_version": "1.5.0",
            "_model_name": "HTMLModel",
            "_view_count": null,
            "_view_module": "@jupyter-widgets/controls",
            "_view_module_version": "1.5.0",
            "_view_name": "HTMLView",
            "description": "",
            "description_tooltip": null,
            "layout": "IPY_MODEL_a2a078e73cc44f0ab23a1c43223b6e3b",
            "placeholder": "​",
            "style": "IPY_MODEL_67e2fde3d8c640e182b88235e85c7cbc",
            "value": " 436k/436k [00:00&lt;00:00, 24.9MB/s]"
          }
        },
        "d91a1bffe2044c95bbc2cb4bec6aff80": {
          "model_module": "@jupyter-widgets/controls",
          "model_module_version": "1.5.0",
          "model_name": "DescriptionStyleModel",
          "state": {
            "_model_module": "@jupyter-widgets/controls",
            "_model_module_version": "1.5.0",
            "_model_name": "DescriptionStyleModel",
            "_view_count": null,
            "_view_module": "@jupyter-widgets/base",
            "_view_module_version": "1.2.0",
            "_view_name": "StyleView",
            "description_width": ""
          }
        },
        "d9dbced0a44f4a2baeac03efa09096ef": {
          "model_module": "@jupyter-widgets/controls",
          "model_module_version": "1.5.0",
          "model_name": "DescriptionStyleModel",
          "state": {
            "_model_module": "@jupyter-widgets/controls",
            "_model_module_version": "1.5.0",
            "_model_name": "DescriptionStyleModel",
            "_view_count": null,
            "_view_module": "@jupyter-widgets/base",
            "_view_module_version": "1.2.0",
            "_view_name": "StyleView",
            "description_width": ""
          }
        },
        "ea6c779fe06c43c198e3c31a5caa0458": {
          "model_module": "@jupyter-widgets/base",
          "model_module_version": "1.2.0",
          "model_name": "LayoutModel",
          "state": {
            "_model_module": "@jupyter-widgets/base",
            "_model_module_version": "1.2.0",
            "_model_name": "LayoutModel",
            "_view_count": null,
            "_view_module": "@jupyter-widgets/base",
            "_view_module_version": "1.2.0",
            "_view_name": "LayoutView",
            "align_content": null,
            "align_items": null,
            "align_self": null,
            "border": null,
            "bottom": null,
            "display": null,
            "flex": null,
            "flex_flow": null,
            "grid_area": null,
            "grid_auto_columns": null,
            "grid_auto_flow": null,
            "grid_auto_rows": null,
            "grid_column": null,
            "grid_gap": null,
            "grid_row": null,
            "grid_template_areas": null,
            "grid_template_columns": null,
            "grid_template_rows": null,
            "height": null,
            "justify_content": null,
            "justify_items": null,
            "left": null,
            "margin": null,
            "max_height": null,
            "max_width": null,
            "min_height": null,
            "min_width": null,
            "object_fit": null,
            "object_position": null,
            "order": null,
            "overflow": null,
            "overflow_x": null,
            "overflow_y": null,
            "padding": null,
            "right": null,
            "top": null,
            "visibility": null,
            "width": null
          }
        },
        "ea7b434ecb78490d8154f6ab3797119e": {
          "model_module": "@jupyter-widgets/base",
          "model_module_version": "1.2.0",
          "model_name": "LayoutModel",
          "state": {
            "_model_module": "@jupyter-widgets/base",
            "_model_module_version": "1.2.0",
            "_model_name": "LayoutModel",
            "_view_count": null,
            "_view_module": "@jupyter-widgets/base",
            "_view_module_version": "1.2.0",
            "_view_name": "LayoutView",
            "align_content": null,
            "align_items": null,
            "align_self": null,
            "border": null,
            "bottom": null,
            "display": null,
            "flex": null,
            "flex_flow": null,
            "grid_area": null,
            "grid_auto_columns": null,
            "grid_auto_flow": null,
            "grid_auto_rows": null,
            "grid_column": null,
            "grid_gap": null,
            "grid_row": null,
            "grid_template_areas": null,
            "grid_template_columns": null,
            "grid_template_rows": null,
            "height": null,
            "justify_content": null,
            "justify_items": null,
            "left": null,
            "margin": null,
            "max_height": null,
            "max_width": null,
            "min_height": null,
            "min_width": null,
            "object_fit": null,
            "object_position": null,
            "order": null,
            "overflow": null,
            "overflow_x": null,
            "overflow_y": null,
            "padding": null,
            "right": null,
            "top": null,
            "visibility": null,
            "width": null
          }
        },
        "eeeb5141550f48fe982a35c7d8baed1e": {
          "model_module": "@jupyter-widgets/controls",
          "model_module_version": "1.5.0",
          "model_name": "ProgressStyleModel",
          "state": {
            "_model_module": "@jupyter-widgets/controls",
            "_model_module_version": "1.5.0",
            "_model_name": "ProgressStyleModel",
            "_view_count": null,
            "_view_module": "@jupyter-widgets/base",
            "_view_module_version": "1.2.0",
            "_view_name": "StyleView",
            "bar_color": null,
            "description_width": ""
          }
        },
        "f1b66f86d61346e391fe5c283979ae27": {
          "model_module": "@jupyter-widgets/controls",
          "model_module_version": "1.5.0",
          "model_name": "DescriptionStyleModel",
          "state": {
            "_model_module": "@jupyter-widgets/controls",
            "_model_module_version": "1.5.0",
            "_model_name": "DescriptionStyleModel",
            "_view_count": null,
            "_view_module": "@jupyter-widgets/base",
            "_view_module_version": "1.2.0",
            "_view_name": "StyleView",
            "description_width": ""
          }
        },
        "f4b428ea289a46b9bf97b51f8a751cbb": {
          "model_module": "@jupyter-widgets/base",
          "model_module_version": "1.2.0",
          "model_name": "LayoutModel",
          "state": {
            "_model_module": "@jupyter-widgets/base",
            "_model_module_version": "1.2.0",
            "_model_name": "LayoutModel",
            "_view_count": null,
            "_view_module": "@jupyter-widgets/base",
            "_view_module_version": "1.2.0",
            "_view_name": "LayoutView",
            "align_content": null,
            "align_items": null,
            "align_self": null,
            "border": null,
            "bottom": null,
            "display": null,
            "flex": null,
            "flex_flow": null,
            "grid_area": null,
            "grid_auto_columns": null,
            "grid_auto_flow": null,
            "grid_auto_rows": null,
            "grid_column": null,
            "grid_gap": null,
            "grid_row": null,
            "grid_template_areas": null,
            "grid_template_columns": null,
            "grid_template_rows": null,
            "height": null,
            "justify_content": null,
            "justify_items": null,
            "left": null,
            "margin": null,
            "max_height": null,
            "max_width": null,
            "min_height": null,
            "min_width": null,
            "object_fit": null,
            "object_position": null,
            "order": null,
            "overflow": null,
            "overflow_x": null,
            "overflow_y": null,
            "padding": null,
            "right": null,
            "top": null,
            "visibility": null,
            "width": null
          }
        },
        "f8a0f36a1553445482d933b5f962f1cd": {
          "model_module": "@jupyter-widgets/base",
          "model_module_version": "1.2.0",
          "model_name": "LayoutModel",
          "state": {
            "_model_module": "@jupyter-widgets/base",
            "_model_module_version": "1.2.0",
            "_model_name": "LayoutModel",
            "_view_count": null,
            "_view_module": "@jupyter-widgets/base",
            "_view_module_version": "1.2.0",
            "_view_name": "LayoutView",
            "align_content": null,
            "align_items": null,
            "align_self": null,
            "border": null,
            "bottom": null,
            "display": null,
            "flex": null,
            "flex_flow": null,
            "grid_area": null,
            "grid_auto_columns": null,
            "grid_auto_flow": null,
            "grid_auto_rows": null,
            "grid_column": null,
            "grid_gap": null,
            "grid_row": null,
            "grid_template_areas": null,
            "grid_template_columns": null,
            "grid_template_rows": null,
            "height": null,
            "justify_content": null,
            "justify_items": null,
            "left": null,
            "margin": null,
            "max_height": null,
            "max_width": null,
            "min_height": null,
            "min_width": null,
            "object_fit": null,
            "object_position": null,
            "order": null,
            "overflow": null,
            "overflow_x": null,
            "overflow_y": null,
            "padding": null,
            "right": null,
            "top": null,
            "visibility": null,
            "width": null
          }
        },
        "fe0d5ed24eb04135a21660284c2d3e8a": {
          "model_module": "@jupyter-widgets/controls",
          "model_module_version": "1.5.0",
          "model_name": "HTMLModel",
          "state": {
            "_dom_classes": [],
            "_model_module": "@jupyter-widgets/controls",
            "_model_module_version": "1.5.0",
            "_model_name": "HTMLModel",
            "_view_count": null,
            "_view_module": "@jupyter-widgets/controls",
            "_view_module_version": "1.5.0",
            "_view_name": "HTMLView",
            "description": "",
            "description_tooltip": null,
            "layout": "IPY_MODEL_971ad37370864a108d9f795332d9125a",
            "placeholder": "​",
            "style": "IPY_MODEL_d91a1bffe2044c95bbc2cb4bec6aff80",
            "value": " 213k/213k [00:00&lt;00:00, 10.8MB/s]"
          }
        }
      }
    }
  },
  "nbformat": 4,
  "nbformat_minor": 0
}
